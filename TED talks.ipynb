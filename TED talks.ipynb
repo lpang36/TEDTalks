{
 "cells": [
  {
   "cell_type": "markdown",
   "metadata": {},
   "source": [
    "Load the data"
   ]
  },
  {
   "cell_type": "code",
   "execution_count": 17,
   "metadata": {},
   "outputs": [
    {
     "ename": "SyntaxError",
     "evalue": "invalid syntax (<ipython-input-17-aa00799148f9>, line 19)",
     "output_type": "error",
     "traceback": [
      "\u001b[0;36m  File \u001b[0;32m\"<ipython-input-17-aa00799148f9>\"\u001b[0;36m, line \u001b[0;32m19\u001b[0m\n\u001b[0;31m    %%R -i df\u001b[0m\n\u001b[0m    ^\u001b[0m\n\u001b[0;31mSyntaxError\u001b[0m\u001b[0;31m:\u001b[0m invalid syntax\n"
     ]
    }
   ],
   "source": [
    "# Hide warnings if there are any\n",
    "import warnings\n",
    "warnings.filterwarnings('ignore')\n",
    "\n",
    "# Load in the r magic\n",
    "%load_ext rpy2.ipython\n",
    "\n",
    "# We need ggplot2\n",
    "%R require(ggplot2)\n",
    "\n",
    "# Load in the pandas library\n",
    "import pandas as pd\n",
    "from rpy2.robjects import pandas2ri, r\n",
    "\n",
    "df = pd.read_csv('ted_main.csv')\n",
    "\n",
    "pandas2ri.activate()\n",
    "\n",
    "%%R -i df\n",
    "\n",
    "summary(df)"
   ]
  },
  {
   "cell_type": "code",
   "execution_count": null,
   "metadata": {},
   "outputs": [],
   "source": []
  }
 ],
 "metadata": {
  "kernelspec": {
   "display_name": "Python 2",
   "language": "python",
   "name": "python2"
  },
  "language_info": {
   "codemirror_mode": {
    "name": "ipython",
    "version": 2
   },
   "file_extension": ".py",
   "mimetype": "text/x-python",
   "name": "python",
   "nbconvert_exporter": "python",
   "pygments_lexer": "ipython2",
   "version": "2.7.12"
  }
 },
 "nbformat": 4,
 "nbformat_minor": 2
}
