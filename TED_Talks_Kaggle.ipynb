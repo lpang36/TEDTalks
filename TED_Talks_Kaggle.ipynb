{
 "cells": [
  {
   "cell_type": "markdown",
   "metadata": {},
   "source": [
    "# Analysis of TED Talk Ratings #\n",
    "\n",
    "## Introduction ##\n",
    "\n",
    "In this analysis we try to quantify the impact of various factors on the rating of a TED talk.\n",
    "\n",
    "First we can load the data: "
   ]
  },
  {
   "cell_type": "code",
   "execution_count": 37,
   "metadata": {},
   "outputs": [],
   "source": [
    "# Hide warnings if there are any\n",
    "import warnings\n",
    "warnings.filterwarnings('ignore')\n",
    "import ast\n",
    "\n",
    "# Load in Python libraries\n",
    "import pandas as pd\n",
    "import numpy as np\n",
    "import matplotlib\n",
    "import matplotlib.pyplot as plot\n",
    "from textblob import TextBlob\n",
    "from keras.models import Sequential\n",
    "from keras.layers import Dense, Activation, Dropout\n",
    "from keras.regularizers import l2\n",
    "from keras.optimizers import SGD\n",
    "import scipy.stats\n",
    "from scipy.stats import gaussian_kde\n",
    "import re\n",
    "import ast\n",
    "import random\n",
    "from sklearn import preprocessing\n",
    "from collections import Counter\n",
    "\n",
    "matplotlib.style.use('ggplot')\n",
    "\n",
    "df = pd.read_csv('ted_main.csv')\n",
    "\n",
    "%matplotlib inline"
   ]
  },
  {
   "cell_type": "markdown",
   "metadata": {},
   "source": [
    "## Data ##\n",
    "\n",
    "First, let's take a look at the data."
   ]
  },
  {
   "cell_type": "code",
   "execution_count": 38,
   "metadata": {},
   "outputs": [
    {
     "data": {
      "text/html": [
       "<div>\n",
       "<style>\n",
       "    .dataframe thead tr:only-child th {\n",
       "        text-align: right;\n",
       "    }\n",
       "\n",
       "    .dataframe thead th {\n",
       "        text-align: left;\n",
       "    }\n",
       "\n",
       "    .dataframe tbody tr th {\n",
       "        vertical-align: top;\n",
       "    }\n",
       "</style>\n",
       "<table border=\"1\" class=\"dataframe\">\n",
       "  <thead>\n",
       "    <tr style=\"text-align: right;\">\n",
       "      <th></th>\n",
       "      <th>comments</th>\n",
       "      <th>description</th>\n",
       "      <th>duration</th>\n",
       "      <th>event</th>\n",
       "      <th>film_date</th>\n",
       "      <th>languages</th>\n",
       "      <th>main_speaker</th>\n",
       "      <th>name</th>\n",
       "      <th>num_speaker</th>\n",
       "      <th>published_date</th>\n",
       "      <th>ratings</th>\n",
       "      <th>related_talks</th>\n",
       "      <th>speaker_occupation</th>\n",
       "      <th>tags</th>\n",
       "      <th>title</th>\n",
       "      <th>url</th>\n",
       "      <th>views</th>\n",
       "    </tr>\n",
       "  </thead>\n",
       "  <tbody>\n",
       "    <tr>\n",
       "      <th>866</th>\n",
       "      <td>79</td>\n",
       "      <td>They've been called the \"saints of Somalia.\" D...</td>\n",
       "      <td>523</td>\n",
       "      <td>TEDWomen 2010</td>\n",
       "      <td>1291766400</td>\n",
       "      <td>35</td>\n",
       "      <td>Hawa Abdi + Deqo Mohamed</td>\n",
       "      <td>Hawa Abdi + Deqo Mohamed: Mother and daughter ...</td>\n",
       "      <td>1</td>\n",
       "      <td>1297276080</td>\n",
       "      <td>[{'id': 22, 'name': 'Fascinating', 'count': 60...</td>\n",
       "      <td>[{'id': 1049, 'hero': 'https://pe.tedcdn.com/i...</td>\n",
       "      <td>Somali doctors who treat women refugees</td>\n",
       "      <td>['community', 'global issues', 'health', 'medi...</td>\n",
       "      <td>Mother and daughter doctor-heroes</td>\n",
       "      <td>https://www.ted.com/talks/mother_and_daughter_...</td>\n",
       "      <td>348647</td>\n",
       "    </tr>\n",
       "  </tbody>\n",
       "</table>\n",
       "</div>"
      ],
      "text/plain": [
       "     comments                                        description  duration  \\\n",
       "866        79  They've been called the \"saints of Somalia.\" D...       523   \n",
       "\n",
       "             event   film_date  languages              main_speaker  \\\n",
       "866  TEDWomen 2010  1291766400         35  Hawa Abdi + Deqo Mohamed   \n",
       "\n",
       "                                                  name  num_speaker  \\\n",
       "866  Hawa Abdi + Deqo Mohamed: Mother and daughter ...            1   \n",
       "\n",
       "     published_date                                            ratings  \\\n",
       "866      1297276080  [{'id': 22, 'name': 'Fascinating', 'count': 60...   \n",
       "\n",
       "                                         related_talks  \\\n",
       "866  [{'id': 1049, 'hero': 'https://pe.tedcdn.com/i...   \n",
       "\n",
       "                          speaker_occupation  \\\n",
       "866  Somali doctors who treat women refugees   \n",
       "\n",
       "                                                  tags  \\\n",
       "866  ['community', 'global issues', 'health', 'medi...   \n",
       "\n",
       "                                 title  \\\n",
       "866  Mother and daughter doctor-heroes   \n",
       "\n",
       "                                                   url   views  \n",
       "866  https://www.ted.com/talks/mother_and_daughter_...  348647  "
      ]
     },
     "execution_count": 38,
     "metadata": {},
     "output_type": "execute_result"
    }
   ],
   "source": [
    "df.sample()"
   ]
  },
  {
   "cell_type": "markdown",
   "metadata": {},
   "source": [
    "There are plenty of quantitative features to analyze, including the comments, duration, languages, and more. The description and title can be assessed on their sentiment. We can analyze speakers, tags, and event location using a one-hot encoding. \n",
    "\n",
    "The name category merely combines information from main_speaker and title. Also, the URL is not useful for our purposes. Let us exclude both."
   ]
  },
  {
   "cell_type": "code",
   "execution_count": 39,
   "metadata": {},
   "outputs": [
    {
     "data": {
      "text/html": [
       "<div>\n",
       "<style>\n",
       "    .dataframe thead tr:only-child th {\n",
       "        text-align: right;\n",
       "    }\n",
       "\n",
       "    .dataframe thead th {\n",
       "        text-align: left;\n",
       "    }\n",
       "\n",
       "    .dataframe tbody tr th {\n",
       "        vertical-align: top;\n",
       "    }\n",
       "</style>\n",
       "<table border=\"1\" class=\"dataframe\">\n",
       "  <thead>\n",
       "    <tr style=\"text-align: right;\">\n",
       "      <th></th>\n",
       "      <th>comments</th>\n",
       "      <th>description</th>\n",
       "      <th>duration</th>\n",
       "      <th>event</th>\n",
       "      <th>film_date</th>\n",
       "      <th>languages</th>\n",
       "      <th>main_speaker</th>\n",
       "      <th>num_speaker</th>\n",
       "      <th>published_date</th>\n",
       "      <th>ratings</th>\n",
       "      <th>related_talks</th>\n",
       "      <th>speaker_occupation</th>\n",
       "      <th>tags</th>\n",
       "      <th>title</th>\n",
       "      <th>views</th>\n",
       "    </tr>\n",
       "  </thead>\n",
       "  <tbody>\n",
       "    <tr>\n",
       "      <th>543</th>\n",
       "      <td>270</td>\n",
       "      <td>For tens of thousands of years our ancestors u...</td>\n",
       "      <td>998</td>\n",
       "      <td>TEDGlobal 2009</td>\n",
       "      <td>1248307200</td>\n",
       "      <td>25</td>\n",
       "      <td>David Deutsch</td>\n",
       "      <td>1</td>\n",
       "      <td>1256546040</td>\n",
       "      <td>[{'id': 24, 'name': 'Persuasive', 'count': 399...</td>\n",
       "      <td>[{'id': 47, 'hero': 'https://pe.tedcdn.com/ima...</td>\n",
       "      <td>Quantum physicist</td>\n",
       "      <td>['ancient world', 'cosmos', 'faith', 'history'...</td>\n",
       "      <td>A new way to explain explanation</td>\n",
       "      <td>938937</td>\n",
       "    </tr>\n",
       "  </tbody>\n",
       "</table>\n",
       "</div>"
      ],
      "text/plain": [
       "     comments                                        description  duration  \\\n",
       "543       270  For tens of thousands of years our ancestors u...       998   \n",
       "\n",
       "              event   film_date  languages   main_speaker  num_speaker  \\\n",
       "543  TEDGlobal 2009  1248307200         25  David Deutsch            1   \n",
       "\n",
       "     published_date                                            ratings  \\\n",
       "543      1256546040  [{'id': 24, 'name': 'Persuasive', 'count': 399...   \n",
       "\n",
       "                                         related_talks speaker_occupation  \\\n",
       "543  [{'id': 47, 'hero': 'https://pe.tedcdn.com/ima...  Quantum physicist   \n",
       "\n",
       "                                                  tags  \\\n",
       "543  ['ancient world', 'cosmos', 'faith', 'history'...   \n",
       "\n",
       "                                title   views  \n",
       "543  A new way to explain explanation  938937  "
      ]
     },
     "execution_count": 39,
     "metadata": {},
     "output_type": "execute_result"
    }
   ],
   "source": [
    "del df['name']\n",
    "del df['url']\n",
    "df.sample()"
   ]
  },
  {
   "cell_type": "markdown",
   "metadata": {},
   "source": [
    "## Measuring Ratings ##\n",
    "\n",
    "To perform this analysis, we need a quantitative definition of a talk's rating. In the data set, such a factor exists, but it is split into various qualitative descriptions. Therefore, we define a measure of aggregate ratings as the sum of some descriptions and the difference of some others. These are considered positive: \n",
    "\n",
    "* Funny\n",
    "* Courageous\n",
    "* Beautiful\n",
    "* Informative\n",
    "* Inspiring\n",
    "* Fascinating\n",
    "* Ingenious\n",
    "* Persuasive\n",
    "* Jaw-dropping\n",
    "\n",
    "These are considered negative: \n",
    "\n",
    "* Confusing\n",
    "* Unconvincing\n",
    "* Longwinded\n",
    "* Obnoxious\n",
    "* OK\n",
    "\n",
    "There are a couple of factors to note. First, there are significantly more positive than negative descriptors. This would have surely created a bias towards positive ratings. Second, rating system allows each viewer to choose up to three of these descriptors per video. If they choose only one, their rating will be counted three times. This is interesting: the number of descriptors one would choose to describe a video does not necessarily correlate with the strength of their opinion. \n",
    "\n",
    "Let us graph the frequency of each qualitative rating."
   ]
  },
  {
   "cell_type": "code",
   "execution_count": 96,
   "metadata": {},
   "outputs": [
    {
     "data": {
      "image/png": "[encoded data removed]",
      "text/plain": [
       "<matplotlib.figure.Figure at 0x1a7b0394c88>"
      ]
     },
     "metadata": {},
     "output_type": "display_data"
    }
   ],
   "source": [
    "df['ratings'] = df['ratings'].apply(lambda x: eval(str(x))) #turns stringified dictionary into python dictionary\n",
    "\n",
    "counter = {'Funny':0, 'Beautiful':0, 'Ingenious':0, 'Courageous':0, 'Longwinded':0, 'Confusing':0, 'Informative':0, 'Fascinating':0, 'Unconvincing':0, 'Persuasive':0, 'Jaw-dropping':0, 'OK':0, 'Obnoxious':0, 'Inspiring':0}\n",
    "\n",
    "for i in range(len(df['ratings'])):\n",
    "    for j in range(len(df['ratings'][i])):\n",
    "        counter[df['ratings'][i][j]['name']] += df['ratings'][i][j]['count']\n",
    "    \n",
    "frequencies = list(counter.values())\n",
    "descr = counter.keys()\n",
    "descriptors = [x for _,x in sorted(zip(frequencies,counter.keys()), reverse=True)]\n",
    "neg_descriptors = {\"Confusing\", \"Unconvincing\", \"Longwinded\", \"Obnoxious\", \"OK\"}\n",
    "neg_indices  = [x for x in range (len(descriptors)) if descriptors[x] in neg_descriptors]\n",
    "frequencies.sort(reverse=True)\n",
    "\n",
    "indices = np.arange(len(descriptors))\n",
    "bar = plot.bar(indices, frequencies, 0.8)\n",
    "[bar[i].set_color('b') for i in neg_indices]\n",
    "plot.xticks(indices, descriptors, rotation=45, ha=\"right\")\n",
    "plot.show()"
   ]
  },
  {
   "cell_type": "markdown",
   "metadata": {},
   "source": [
    "Our hypothesis was correct: there is a significant bias towards positive ratings. In addition to the rating options available, we may attribute this to the quality of the TED Talks, or the tendency of the average TED viewer to leave positive feedback over negative feedback. Regardless, we must consider this when analyzing the results. "
   ]
  },
  {
   "cell_type": "code",
   "execution_count": 97,
   "metadata": {},
   "outputs": [],
   "source": [
    "df['aggregateRatings'] = df['ratings'].apply(lambda x: \\\n",
    "                                            x[0]['count']+ \\\n",
    "                                            x[1]['count']- \\\n",
    "                                            x[2]['count']+ \\\n",
    "                                            x[3]['count']- \\\n",
    "                                            x[4]['count']- \\\n",
    "                                            x[5]['count']+ \\\n",
    "                                            x[6]['count']+ \\\n",
    "                                            x[7]['count']+ \\\n",
    "                                            x[8]['count']+ \\\n",
    "                                            x[9]['count']+ \\\n",
    "                                            x[10]['count']+ \\\n",
    "                                            x[11]['count']- \\\n",
    "                                            x[12]['count']- \\\n",
    "                                            x[13]['count'])\n",
    "ar = df['aggregateRatings']"
   ]
  },
  {
   "cell_type": "markdown",
   "metadata": {},
   "source": [
    "## Preliminary Analysis ##\n",
    "\n",
    "Let us examine the relationship between this aggregate rating measure and some factors present in the data set. "
   ]
  },
  {
   "cell_type": "code",
   "execution_count": 59,
   "metadata": {},
   "outputs": [
    {
     "data": {
      "image/png": "[encoded data removed]",
      "text/plain": [
       "<matplotlib.figure.Figure at 0x229d9d1fdd8>"
      ]
     },
     "metadata": {},
     "output_type": "display_data"
    }
   ],
   "source": [
    "df.plot.scatter(x='languages',y='aggregateRatings',color='black')\n",
    "#define convenience function for trend lines\n",
    "def plotTrendLine(x,y,data=df,color='red',logx=False,logy=False):\n",
    "    oldx = np.reshape(data[x].values,(-1,))\n",
    "    oldy = np.reshape(data[y].values,(-1,))\n",
    "    tempx = oldx\n",
    "    tempy = oldy\n",
    "    if logx:\n",
    "        tempx = np.log10(tempx)\n",
    "    if logy:\n",
    "        tempy = np.log10(tempy)\n",
    "    idx = np.isfinite(tempx) & np.isfinite(tempy)\n",
    "    z = np.polyfit(tempx[idx],tempy[idx],1)\n",
    "    tempy = z[0]*tempx+z[1]\n",
    "    plot.plot(oldx,tempy,color=color)\n",
    "    return z\n",
    "plotTrendLine('languages','aggregateRatings');"
   ]
  },
  {
   "cell_type": "markdown",
   "metadata": {},
   "source": [
    "We see that there is a slight correlation between languages and ratings - which doesn't seem immediately intuitive. Possibly this is really attributable to views and comments. "
   ]
  },
  {
   "cell_type": "code",
   "execution_count": 60,
   "metadata": {},
   "outputs": [
    {
     "data": {
      "image/png": "[encoded data removed]",
      "text/plain": [
       "<matplotlib.figure.Figure at 0x229da2e07f0>"
      ]
     },
     "metadata": {},
     "output_type": "display_data"
    }
   ],
   "source": [
    "df.plot.scatter(x='views',y='aggregateRatings',color='black')\n",
    "plotTrendLine('views','aggregateRatings',logx=True);\n",
    "plot.xscale('log')"
   ]
  },
  {
   "cell_type": "code",
   "execution_count": 61,
   "metadata": {},
   "outputs": [
    {
     "data": {
      "image/png": "[encoded data removed]",
      "text/plain": [
       "<matplotlib.figure.Figure at 0x229e3952e48>"
      ]
     },
     "metadata": {},
     "output_type": "display_data"
    }
   ],
   "source": [
    "df.plot.scatter(x='comments',y='aggregateRatings',color='black')\n",
    "plotTrendLine('comments','aggregateRatings',logx=True);\n",
    "plot.xscale('log')"
   ]
  },
  {
   "cell_type": "markdown",
   "metadata": {},
   "source": [
    "Again, there is a general positive trend in both cases, with some outliers tending towards more negative ratings. We can conlude rather naturally that talks people like seem to be more viewed and commented on, and thus rated more highly. However, this also introduces a rating bias toward more highly-viewed talks. Thus, we define a new data column which is average aggregate rating: "
   ]
  },
  {
   "cell_type": "code",
   "execution_count": 62,
   "metadata": {},
   "outputs": [
    {
     "data": {
      "image/png": "[encoded data removed]",
      "text/plain": [
       "<matplotlib.figure.Figure at 0x229da314198>"
      ]
     },
     "metadata": {},
     "output_type": "display_data"
    }
   ],
   "source": [
    "df['totalRatings'] = df['ratings'].apply(lambda x: \\\n",
    "                                            x[0]['count']+ \\\n",
    "                                            x[1]['count']+ \\\n",
    "                                            x[2]['count']+ \\\n",
    "                                            x[3]['count']+ \\\n",
    "                                            x[4]['count']+ \\\n",
    "                                            x[5]['count']+ \\\n",
    "                                            x[6]['count']+ \\\n",
    "                                            x[7]['count']+ \\\n",
    "                                            x[8]['count']+ \\\n",
    "                                            x[9]['count']+ \\\n",
    "                                            x[10]['count']+ \\\n",
    "                                            x[11]['count']+ \\\n",
    "                                            x[12]['count']+ \\\n",
    "                                            x[13]['count'])\n",
    "\n",
    "df['avgPerRating'] = df['aggregateRatings']/df['totalRatings']\n",
    "plot.hist(x=df['avgPerRating'],bins=50,range=(-1,1),color='black')\n",
    "#convenience function for density curve plotting\n",
    "def plotDensityCurve(x,linspace,covariance_factor=0.25,multiplier=1,data=df,color='red'):\n",
    "    if data is not None:\n",
    "        tempx = np.reshape(data[x].values,(-1,))\n",
    "    else:\n",
    "        tempx = x\n",
    "    density = gaussian_kde(tempx)\n",
    "    xs = np.linspace(linspace[0],linspace[1],linspace[2])\n",
    "    density.covariance_factor = lambda: covariance_factor\n",
    "    density._compute_covariance()\n",
    "    plot.plot(xs,density(xs)*multiplier)\n",
    "plotDensityCurve('avgPerRating',(-1,1,50),multiplier=100)"
   ]
  },
  {
   "cell_type": "markdown",
   "metadata": {},
   "source": [
    "A histogram of per-view ratings. Note that most talks fall on the positive side - most ratings given are positive."
   ]
  },
  {
   "cell_type": "code",
   "execution_count": 63,
   "metadata": {},
   "outputs": [
    {
     "name": "stdout",
     "output_type": "stream",
     "text": [
      "Slope: 0.00748830998680338\n"
     ]
    },
    {
     "data": {
      "image/png": "[encoded data removed]",
      "text/plain": [
       "<matplotlib.figure.Figure at 0x229d9fe18d0>"
      ]
     },
     "metadata": {},
     "output_type": "display_data"
    }
   ],
   "source": [
    "df.plot.scatter(x='comments',y='avgPerRating',color='black')\n",
    "coeffs = plotTrendLine('comments','avgPerRating',logx=True);\n",
    "plot.xscale('log')\n",
    "print(\"Slope: \"+str(coeffs[0]))"
   ]
  },
  {
   "cell_type": "code",
   "execution_count": 64,
   "metadata": {},
   "outputs": [
    {
     "name": "stdout",
     "output_type": "stream",
     "text": [
      "Slope: 0.018296978661601317\n"
     ]
    },
    {
     "data": {
      "image/png": "[encoded data removed]",
      "text/plain": [
       "<matplotlib.figure.Figure at 0x229e3a60048>"
      ]
     },
     "metadata": {},
     "output_type": "display_data"
    }
   ],
   "source": [
    "df.plot.scatter(x='views',y='avgPerRating',color='black')\n",
    "coeffs = plotTrendLine('views','avgPerRating',logx=True);\n",
    "plot.xscale('log')\n",
    "print(\"Slope: \"+str(coeffs[0]))"
   ]
  },
  {
   "cell_type": "markdown",
   "metadata": {},
   "source": [
    "This is more interesting. While more comments seem to indicate higher ratings per view, the opposite is true for number of views.\n",
    "\n",
    "## Machine Learning ##\n",
    "\n",
    "What about trying to predict a rating based on various factors? This is where machine learning comes in. First, we want to select relevant features."
   ]
  },
  {
   "cell_type": "code",
   "execution_count": 65,
   "metadata": {},
   "outputs": [
    {
     "data": {
      "text/html": [
       "<div>\n",
       "<style>\n",
       "    .dataframe thead tr:only-child th {\n",
       "        text-align: right;\n",
       "    }\n",
       "\n",
       "    .dataframe thead th {\n",
       "        text-align: left;\n",
       "    }\n",
       "\n",
       "    .dataframe tbody tr th {\n",
       "        vertical-align: top;\n",
       "    }\n",
       "</style>\n",
       "<table border=\"1\" class=\"dataframe\">\n",
       "  <thead>\n",
       "    <tr style=\"text-align: right;\">\n",
       "      <th></th>\n",
       "      <th>comments</th>\n",
       "      <th>description</th>\n",
       "      <th>duration</th>\n",
       "      <th>event</th>\n",
       "      <th>film_date</th>\n",
       "      <th>languages</th>\n",
       "      <th>main_speaker</th>\n",
       "      <th>name</th>\n",
       "      <th>num_speaker</th>\n",
       "      <th>published_date</th>\n",
       "      <th>ratings</th>\n",
       "      <th>related_talks</th>\n",
       "      <th>speaker_occupation</th>\n",
       "      <th>tags</th>\n",
       "      <th>title</th>\n",
       "      <th>url</th>\n",
       "      <th>views</th>\n",
       "      <th>aggregateRatings</th>\n",
       "      <th>totalRatings</th>\n",
       "      <th>avgPerRating</th>\n",
       "    </tr>\n",
       "  </thead>\n",
       "  <tbody>\n",
       "    <tr>\n",
       "      <th>315</th>\n",
       "      <td>111</td>\n",
       "      <td>Humorist John Hodgman rambles through a new st...</td>\n",
       "      <td>1000</td>\n",
       "      <td>TED2008</td>\n",
       "      <td>1201910400</td>\n",
       "      <td>26</td>\n",
       "      <td>John Hodgman</td>\n",
       "      <td>John Hodgman: Aliens, love -- where are they?</td>\n",
       "      <td>1</td>\n",
       "      <td>1224550800</td>\n",
       "      <td>[{'id': 22, 'name': 'Fascinating', 'count': 17...</td>\n",
       "      <td>[{'id': 148, 'hero': 'https://pe.tedcdn.com/im...</td>\n",
       "      <td>Expert</td>\n",
       "      <td>['comedy', 'entertainment', 'extraterrestrial ...</td>\n",
       "      <td>Aliens, love -- where are they?</td>\n",
       "      <td>https://www.ted.com/talks/john_hodgman_s_brief...</td>\n",
       "      <td>1935213</td>\n",
       "      <td>2173</td>\n",
       "      <td>3605</td>\n",
       "      <td>0.602774</td>\n",
       "    </tr>\n",
       "  </tbody>\n",
       "</table>\n",
       "</div>"
      ],
      "text/plain": [
       "     comments                                        description  duration  \\\n",
       "315       111  Humorist John Hodgman rambles through a new st...      1000   \n",
       "\n",
       "       event   film_date  languages  main_speaker  \\\n",
       "315  TED2008  1201910400         26  John Hodgman   \n",
       "\n",
       "                                              name  num_speaker  \\\n",
       "315  John Hodgman: Aliens, love -- where are they?            1   \n",
       "\n",
       "     published_date                                            ratings  \\\n",
       "315      1224550800  [{'id': 22, 'name': 'Fascinating', 'count': 17...   \n",
       "\n",
       "                                         related_talks speaker_occupation  \\\n",
       "315  [{'id': 148, 'hero': 'https://pe.tedcdn.com/im...             Expert   \n",
       "\n",
       "                                                  tags  \\\n",
       "315  ['comedy', 'entertainment', 'extraterrestrial ...   \n",
       "\n",
       "                               title  \\\n",
       "315  Aliens, love -- where are they?   \n",
       "\n",
       "                                                   url    views  \\\n",
       "315  https://www.ted.com/talks/john_hodgman_s_brief...  1935213   \n",
       "\n",
       "     aggregateRatings  totalRatings  avgPerRating  \n",
       "315              2173          3605      0.602774  "
      ]
     },
     "execution_count": 65,
     "metadata": {},
     "output_type": "execute_result"
    }
   ],
   "source": [
    "df.sample()"
   ]
  },
  {
   "cell_type": "markdown",
   "metadata": {},
   "source": [
    "From the sample, there are 7 numeric features that we can use:"
   ]
  },
  {
   "cell_type": "code",
   "execution_count": 66,
   "metadata": {
    "collapsed": true
   },
   "outputs": [],
   "source": [
    "mldf = df[['num_speaker','duration','comments','languages','views', 'film_date', 'published_date']]"
   ]
  },
  {
   "cell_type": "markdown",
   "metadata": {},
   "source": [
    "Currently, this just consists of numerical values which already exist in the TED talks data set. However, it leaves out a lot of factors, such as the title and description of the talk. We can analyze these with natural language processing. \n",
    "\n",
    "There are a few approaches that can be taken. One of the possibilities is to perform a sentiment analysis on the description (or possibly the title) and consider this a feature. We can do this with the TextBlob library:"
   ]
  },
  {
   "cell_type": "code",
   "execution_count": 67,
   "metadata": {},
   "outputs": [
    {
     "name": "stdout",
     "output_type": "stream",
     "text": [
      "Sentiment: \n",
      "0    0.291667\n",
      "1   -0.115909\n",
      "2   -0.081981\n",
      "3    0.000000\n",
      "4    0.000000\n",
      "Name: descriptionSentiment, dtype: float64\n",
      "Description: \n",
      "0    Sir Ken Robinson makes an entertaining and pro...\n",
      "1    With the same humor and humanity he exuded in ...\n",
      "2    New York Times columnist David Pogue takes aim...\n",
      "3    In an emotionally charged talk, MacArthur-winn...\n",
      "4    You've never seen data presented like this. Wi...\n",
      "Name: description, dtype: object\n"
     ]
    }
   ],
   "source": [
    "mldf['descriptionSentiment'] = df['description'].apply(lambda x:TextBlob(re.sub(r'[^\\x00-\\x7f]',r'',x)).sentiment.polarity)\n",
    "print(\"Sentiment: \")\n",
    "print(mldf['descriptionSentiment'].head())\n",
    "print(\"Description: \")\n",
    "print(df['description'].head())"
   ]
  },
  {
   "cell_type": "markdown",
   "metadata": {},
   "source": [
    "We can also analyze tags and the event location. We can create a one-hot encoding: "
   ]
  },
  {
   "cell_type": "code",
   "execution_count": 68,
   "metadata": {
    "collapsed": true
   },
   "outputs": [],
   "source": [
    "mldf['encodedEvent'] = preprocessing.LabelBinarizer().fit_transform(df['event']).tolist()\n",
    "\n",
    "df['tags'] = df['tags'].apply(lambda x:eval(str(x)))\n",
    "all_tags = {}\n",
    "count = 0\n",
    "for talk in df['tags']:\n",
    "    for tag in talk:\n",
    "        if not tag in all_tags:\n",
    "            all_tags[tag] = count\n",
    "            count = count+1\n",
    "onehot = np.zeros((0,count))\n",
    "for talk in df['tags']:\n",
    "    temp = np.zeros((1,count))\n",
    "    for tag in talk:\n",
    "        temp[0,all_tags[tag]] = 1\n",
    "    onehot = np.concatenate((onehot,temp),0)"
   ]
  },
  {
   "cell_type": "markdown",
   "metadata": {},
   "source": [
    "Now we are ready to create the machine learning model. Our model will be a neural network, implemented in Keras using a TensorFlow backend. We first create the training and validation data sets, then we create the model."
   ]
  },
  {
   "cell_type": "code",
   "execution_count": 69,
   "metadata": {
    "collapsed": true
   },
   "outputs": [],
   "source": [
    "mldf_np = mldf.as_matrix()\n",
    "all_y = np.reshape(df['avgPerRating'].as_matrix(),(-1,1))\n",
    "all_x = np.concatenate((mldf_np,onehot),1)\n",
    "combined = np.concatenate((all_x,all_y),1)\n",
    "np.random.shuffle(combined)\n",
    "data_size = np.shape(all_y)[0]\n",
    "train_size = (int)(data_size*0.75)\n",
    "feature_size = np.shape(all_x)[1]\n",
    "x_train = combined[0:train_size,0:feature_size]\n",
    "y_train = combined[0:train_size,feature_size]\n",
    "x_val = combined[train_size:data_size,0:feature_size]\n",
    "y_val = combined[train_size:data_size,feature_size]"
   ]
  },
  {
   "cell_type": "code",
   "execution_count": 70,
   "metadata": {},
   "outputs": [
    {
     "name": "stdout",
     "output_type": "stream",
     "text": [
      "Train on 1912 samples, validate on 638 samples\n",
      "Epoch 1/20\n"
     ]
    },
    {
     "ename": "ValueError",
     "evalue": "setting an array element with a sequence.",
     "output_type": "error",
     "traceback": [
      "\u001b[1;31m---------------------------------------------------------------------------\u001b[0m",
      "\u001b[1;31mValueError\u001b[0m                                Traceback (most recent call last)",
      "\u001b[1;32m<ipython-input-70-83562a7e7b92>\u001b[0m in \u001b[0;36m<module>\u001b[1;34m()\u001b[0m\n\u001b[0;32m      3\u001b[0m \u001b[0mmodel\u001b[0m\u001b[1;33m.\u001b[0m\u001b[0madd\u001b[0m\u001b[1;33m(\u001b[0m\u001b[0mDense\u001b[0m\u001b[1;33m(\u001b[0m\u001b[1;36m1\u001b[0m\u001b[1;33m)\u001b[0m\u001b[1;33m)\u001b[0m\u001b[1;33m\u001b[0m\u001b[0m\n\u001b[0;32m      4\u001b[0m \u001b[0mmodel\u001b[0m\u001b[1;33m.\u001b[0m\u001b[0mcompile\u001b[0m\u001b[1;33m(\u001b[0m\u001b[0mloss\u001b[0m\u001b[1;33m=\u001b[0m\u001b[1;34m'mean_squared_error'\u001b[0m\u001b[1;33m,\u001b[0m\u001b[0moptimizer\u001b[0m\u001b[1;33m=\u001b[0m\u001b[1;34m\"adam\"\u001b[0m\u001b[1;33m)\u001b[0m\u001b[1;33m\u001b[0m\u001b[0m\n\u001b[1;32m----> 5\u001b[1;33m \u001b[0mhistory\u001b[0m \u001b[1;33m=\u001b[0m \u001b[0mmodel\u001b[0m\u001b[1;33m.\u001b[0m\u001b[0mfit\u001b[0m\u001b[1;33m(\u001b[0m\u001b[0mx\u001b[0m\u001b[1;33m=\u001b[0m\u001b[0mx_train\u001b[0m\u001b[1;33m,\u001b[0m\u001b[0my\u001b[0m\u001b[1;33m=\u001b[0m\u001b[0my_train\u001b[0m\u001b[1;33m,\u001b[0m\u001b[0mbatch_size\u001b[0m\u001b[1;33m=\u001b[0m\u001b[1;36m64\u001b[0m\u001b[1;33m,\u001b[0m\u001b[0mepochs\u001b[0m\u001b[1;33m=\u001b[0m\u001b[1;36m20\u001b[0m\u001b[1;33m,\u001b[0m\u001b[0mvalidation_data\u001b[0m\u001b[1;33m=\u001b[0m\u001b[1;33m(\u001b[0m\u001b[0mx_val\u001b[0m\u001b[1;33m,\u001b[0m\u001b[0my_val\u001b[0m\u001b[1;33m)\u001b[0m\u001b[1;33m)\u001b[0m\u001b[1;33m\u001b[0m\u001b[0m\n\u001b[0m",
      "\u001b[1;32mc:\\users\\nick\\appdata\\local\\programs\\python\\python36\\lib\\site-packages\\keras\\models.py\u001b[0m in \u001b[0;36mfit\u001b[1;34m(self, x, y, batch_size, epochs, verbose, callbacks, validation_split, validation_data, shuffle, class_weight, sample_weight, initial_epoch, **kwargs)\u001b[0m\n\u001b[0;32m    869\u001b[0m                               \u001b[0mclass_weight\u001b[0m\u001b[1;33m=\u001b[0m\u001b[0mclass_weight\u001b[0m\u001b[1;33m,\u001b[0m\u001b[1;33m\u001b[0m\u001b[0m\n\u001b[0;32m    870\u001b[0m                               \u001b[0msample_weight\u001b[0m\u001b[1;33m=\u001b[0m\u001b[0msample_weight\u001b[0m\u001b[1;33m,\u001b[0m\u001b[1;33m\u001b[0m\u001b[0m\n\u001b[1;32m--> 871\u001b[1;33m                               initial_epoch=initial_epoch)\n\u001b[0m\u001b[0;32m    872\u001b[0m \u001b[1;33m\u001b[0m\u001b[0m\n\u001b[0;32m    873\u001b[0m     def evaluate(self, x, y, batch_size=32, verbose=1,\n",
      "\u001b[1;32mc:\\users\\nick\\appdata\\local\\programs\\python\\python36\\lib\\site-packages\\keras\\engine\\training.py\u001b[0m in \u001b[0;36mfit\u001b[1;34m(self, x, y, batch_size, epochs, verbose, callbacks, validation_split, validation_data, shuffle, class_weight, sample_weight, initial_epoch, steps_per_epoch, validation_steps, **kwargs)\u001b[0m\n\u001b[0;32m   1599\u001b[0m                               \u001b[0minitial_epoch\u001b[0m\u001b[1;33m=\u001b[0m\u001b[0minitial_epoch\u001b[0m\u001b[1;33m,\u001b[0m\u001b[1;33m\u001b[0m\u001b[0m\n\u001b[0;32m   1600\u001b[0m                               \u001b[0msteps_per_epoch\u001b[0m\u001b[1;33m=\u001b[0m\u001b[0msteps_per_epoch\u001b[0m\u001b[1;33m,\u001b[0m\u001b[1;33m\u001b[0m\u001b[0m\n\u001b[1;32m-> 1601\u001b[1;33m                               validation_steps=validation_steps)\n\u001b[0m\u001b[0;32m   1602\u001b[0m \u001b[1;33m\u001b[0m\u001b[0m\n\u001b[0;32m   1603\u001b[0m     def evaluate(self, x=None, y=None,\n",
      "\u001b[1;32mc:\\users\\nick\\appdata\\local\\programs\\python\\python36\\lib\\site-packages\\keras\\engine\\training.py\u001b[0m in \u001b[0;36m_fit_loop\u001b[1;34m(self, f, ins, out_labels, batch_size, epochs, verbose, callbacks, val_f, val_ins, shuffle, callback_metrics, initial_epoch, steps_per_epoch, validation_steps)\u001b[0m\n\u001b[0;32m   1181\u001b[0m                     \u001b[0mbatch_logs\u001b[0m\u001b[1;33m[\u001b[0m\u001b[1;34m'size'\u001b[0m\u001b[1;33m]\u001b[0m \u001b[1;33m=\u001b[0m \u001b[0mlen\u001b[0m\u001b[1;33m(\u001b[0m\u001b[0mbatch_ids\u001b[0m\u001b[1;33m)\u001b[0m\u001b[1;33m\u001b[0m\u001b[0m\n\u001b[0;32m   1182\u001b[0m                     \u001b[0mcallbacks\u001b[0m\u001b[1;33m.\u001b[0m\u001b[0mon_batch_begin\u001b[0m\u001b[1;33m(\u001b[0m\u001b[0mbatch_index\u001b[0m\u001b[1;33m,\u001b[0m \u001b[0mbatch_logs\u001b[0m\u001b[1;33m)\u001b[0m\u001b[1;33m\u001b[0m\u001b[0m\n\u001b[1;32m-> 1183\u001b[1;33m                     \u001b[0mouts\u001b[0m \u001b[1;33m=\u001b[0m \u001b[0mf\u001b[0m\u001b[1;33m(\u001b[0m\u001b[0mins_batch\u001b[0m\u001b[1;33m)\u001b[0m\u001b[1;33m\u001b[0m\u001b[0m\n\u001b[0m\u001b[0;32m   1184\u001b[0m                     \u001b[1;32mif\u001b[0m \u001b[1;32mnot\u001b[0m \u001b[0misinstance\u001b[0m\u001b[1;33m(\u001b[0m\u001b[0mouts\u001b[0m\u001b[1;33m,\u001b[0m \u001b[0mlist\u001b[0m\u001b[1;33m)\u001b[0m\u001b[1;33m:\u001b[0m\u001b[1;33m\u001b[0m\u001b[0m\n\u001b[0;32m   1185\u001b[0m                         \u001b[0mouts\u001b[0m \u001b[1;33m=\u001b[0m \u001b[1;33m[\u001b[0m\u001b[0mouts\u001b[0m\u001b[1;33m]\u001b[0m\u001b[1;33m\u001b[0m\u001b[0m\n",
      "\u001b[1;32mc:\\users\\nick\\appdata\\local\\programs\\python\\python36\\lib\\site-packages\\keras\\backend\\tensorflow_backend.py\u001b[0m in \u001b[0;36m__call__\u001b[1;34m(self, inputs)\u001b[0m\n\u001b[0;32m   2332\u001b[0m         updated = session.run(self.outputs + [self.updates_op],\n\u001b[0;32m   2333\u001b[0m                               \u001b[0mfeed_dict\u001b[0m\u001b[1;33m=\u001b[0m\u001b[0mfeed_dict\u001b[0m\u001b[1;33m,\u001b[0m\u001b[1;33m\u001b[0m\u001b[0m\n\u001b[1;32m-> 2334\u001b[1;33m                               **self.session_kwargs)\n\u001b[0m\u001b[0;32m   2335\u001b[0m         \u001b[1;32mreturn\u001b[0m \u001b[0mupdated\u001b[0m\u001b[1;33m[\u001b[0m\u001b[1;33m:\u001b[0m\u001b[0mlen\u001b[0m\u001b[1;33m(\u001b[0m\u001b[0mself\u001b[0m\u001b[1;33m.\u001b[0m\u001b[0moutputs\u001b[0m\u001b[1;33m)\u001b[0m\u001b[1;33m]\u001b[0m\u001b[1;33m\u001b[0m\u001b[0m\n\u001b[0;32m   2336\u001b[0m \u001b[1;33m\u001b[0m\u001b[0m\n",
      "\u001b[1;32mc:\\users\\nick\\appdata\\local\\programs\\python\\python36\\lib\\site-packages\\tensorflow\\python\\client\\session.py\u001b[0m in \u001b[0;36mrun\u001b[1;34m(self, fetches, feed_dict, options, run_metadata)\u001b[0m\n\u001b[0;32m    887\u001b[0m     \u001b[1;32mtry\u001b[0m\u001b[1;33m:\u001b[0m\u001b[1;33m\u001b[0m\u001b[0m\n\u001b[0;32m    888\u001b[0m       result = self._run(None, fetches, feed_dict, options_ptr,\n\u001b[1;32m--> 889\u001b[1;33m                          run_metadata_ptr)\n\u001b[0m\u001b[0;32m    890\u001b[0m       \u001b[1;32mif\u001b[0m \u001b[0mrun_metadata\u001b[0m\u001b[1;33m:\u001b[0m\u001b[1;33m\u001b[0m\u001b[0m\n\u001b[0;32m    891\u001b[0m         \u001b[0mproto_data\u001b[0m \u001b[1;33m=\u001b[0m \u001b[0mtf_session\u001b[0m\u001b[1;33m.\u001b[0m\u001b[0mTF_GetBuffer\u001b[0m\u001b[1;33m(\u001b[0m\u001b[0mrun_metadata_ptr\u001b[0m\u001b[1;33m)\u001b[0m\u001b[1;33m\u001b[0m\u001b[0m\n",
      "\u001b[1;32mc:\\users\\nick\\appdata\\local\\programs\\python\\python36\\lib\\site-packages\\tensorflow\\python\\client\\session.py\u001b[0m in \u001b[0;36m_run\u001b[1;34m(self, handle, fetches, feed_dict, options, run_metadata)\u001b[0m\n\u001b[0;32m   1087\u001b[0m             \u001b[0mfeed_handles\u001b[0m\u001b[1;33m[\u001b[0m\u001b[0msubfeed_t\u001b[0m\u001b[1;33m]\u001b[0m \u001b[1;33m=\u001b[0m \u001b[0msubfeed_val\u001b[0m\u001b[1;33m\u001b[0m\u001b[0m\n\u001b[0;32m   1088\u001b[0m           \u001b[1;32melse\u001b[0m\u001b[1;33m:\u001b[0m\u001b[1;33m\u001b[0m\u001b[0m\n\u001b[1;32m-> 1089\u001b[1;33m             \u001b[0mnp_val\u001b[0m \u001b[1;33m=\u001b[0m \u001b[0mnp\u001b[0m\u001b[1;33m.\u001b[0m\u001b[0masarray\u001b[0m\u001b[1;33m(\u001b[0m\u001b[0msubfeed_val\u001b[0m\u001b[1;33m,\u001b[0m \u001b[0mdtype\u001b[0m\u001b[1;33m=\u001b[0m\u001b[0msubfeed_dtype\u001b[0m\u001b[1;33m)\u001b[0m\u001b[1;33m\u001b[0m\u001b[0m\n\u001b[0m\u001b[0;32m   1090\u001b[0m \u001b[1;33m\u001b[0m\u001b[0m\n\u001b[0;32m   1091\u001b[0m           if (not is_tensor_handle_feed and\n",
      "\u001b[1;32mc:\\users\\nick\\appdata\\local\\programs\\python\\python36\\lib\\site-packages\\numpy\\core\\numeric.py\u001b[0m in \u001b[0;36masarray\u001b[1;34m(a, dtype, order)\u001b[0m\n\u001b[0;32m    490\u001b[0m \u001b[1;33m\u001b[0m\u001b[0m\n\u001b[0;32m    491\u001b[0m     \"\"\"\n\u001b[1;32m--> 492\u001b[1;33m     \u001b[1;32mreturn\u001b[0m \u001b[0marray\u001b[0m\u001b[1;33m(\u001b[0m\u001b[0ma\u001b[0m\u001b[1;33m,\u001b[0m \u001b[0mdtype\u001b[0m\u001b[1;33m,\u001b[0m \u001b[0mcopy\u001b[0m\u001b[1;33m=\u001b[0m\u001b[1;32mFalse\u001b[0m\u001b[1;33m,\u001b[0m \u001b[0morder\u001b[0m\u001b[1;33m=\u001b[0m\u001b[0morder\u001b[0m\u001b[1;33m)\u001b[0m\u001b[1;33m\u001b[0m\u001b[0m\n\u001b[0m\u001b[0;32m    493\u001b[0m \u001b[1;33m\u001b[0m\u001b[0m\n\u001b[0;32m    494\u001b[0m \u001b[1;33m\u001b[0m\u001b[0m\n",
      "\u001b[1;31mValueError\u001b[0m: setting an array element with a sequence."
     ]
    }
   ],
   "source": [
    "model = Sequential()\n",
    "model.add(Dense(64,input_dim=feature_size,kernel_regularizer=l2(0.01)))\n",
    "model.add(Dense(1))\n",
    "model.compile(loss='mean_squared_error',optimizer=\"adam\")\n",
    "history = model.fit(x=x_train,y=y_train,batch_size=64,epochs=20,validation_data=(x_val,y_val))"
   ]
  },
  {
   "cell_type": "markdown",
   "metadata": {},
   "source": [
    "From the steadily decreasing loss on both test and validation data sets, it's clear that this neural network works fairly well. We can graph the losses:  "
   ]
  },
  {
   "cell_type": "code",
   "execution_count": null,
   "metadata": {
    "collapsed": true
   },
   "outputs": [],
   "source": [
    "loss = history.history['loss']\n",
    "val_loss = history.history['val_loss']\n",
    "epochs = np.arange(1,21)\n",
    "plot.plot(epochs,loss,color='red')\n",
    "plot.plot(epochs,val_loss,color='blue')\n",
    "plot.yscale('log')"
   ]
  },
  {
   "cell_type": "markdown",
   "metadata": {},
   "source": [
    "While this neural network works well, it is possibly difficult to interpret due to the hidden layer. Thus, we also train a simpler version, with no hidden layer and linear activation. "
   ]
  },
  {
   "cell_type": "code",
   "execution_count": null,
   "metadata": {
    "collapsed": true
   },
   "outputs": [],
   "source": [
    "model = Sequential()\n",
    "model.add(Dense(1,input_dim=feature_size))\n",
    "model.compile(loss='mean_squared_error',optimizer=\"adam\")\n",
    "history = model.fit(x=x_train,y=y_train,batch_size=64,epochs=20,validation_data=(x_val,y_val))"
   ]
  },
  {
   "cell_type": "markdown",
   "metadata": {},
   "source": [
    "We can graph the loss for this network as well. "
   ]
  },
  {
   "cell_type": "code",
   "execution_count": null,
   "metadata": {
    "collapsed": true
   },
   "outputs": [],
   "source": [
    "loss = history.history['loss']\n",
    "val_loss = history.history['val_loss']\n",
    "epochs = np.arange(1,21)\n",
    "plot.plot(epochs,loss,color='red')\n",
    "plot.plot(epochs,val_loss,color='blue')\n",
    "plot.yscale('log')"
   ]
  },
  {
   "cell_type": "markdown",
   "metadata": {},
   "source": [
    "This neural network has the benefit of being easier to understand. As this neural network has linear activation with no hidden layers, its weights can be interpreted as directly affecting the final rating per view. A positive weight would indicate some correlation between that feature and rating per view, and vice versa.\n",
    "\n",
    "## Factor Analysis ##\n",
    "\n",
    "We first split the weights into two categories. existing_weights consists of the existing numerical features in the data set, as well as the sentiment of the description. tag_weights, a larger set of features, consists of the weights of each TED talk tag. "
   ]
  },
  {
   "cell_type": "code",
   "execution_count": null,
   "metadata": {
    "collapsed": true
   },
   "outputs": [],
   "source": [
    "all_weights_temp = model.layers[0].get_weights()[0]\n",
    "all_weights = []\n",
    "for weight in all_weights_temp:\n",
    "    all_weights.append(weight[0])\n",
    "existing_weights = all_weights[:6]\n",
    "tag_weights = all_weights[6:]"
   ]
  },
  {
   "cell_type": "markdown",
   "metadata": {},
   "source": [
    "Let's first examine the relationship between rating per view and the existing numerical features in the data set. "
   ]
  },
  {
   "cell_type": "code",
   "execution_count": null,
   "metadata": {
    "collapsed": true
   },
   "outputs": [],
   "source": [
    "fig,ax = plot.subplots()\n",
    "index = np.arange(0,6)\n",
    "ax.bar(index,existing_weights)\n",
    "ax.set_xticklabels(('','num_speaker','duration','comments','languages','views','sentiment'))\n",
    "plot.show()"
   ]
  },
  {
   "cell_type": "markdown",
   "metadata": {},
   "source": [
    "Examining each feature in order: \n",
    "\n",
    "* Number of speakers: large positive coefficient. Talks with multiple speakers seem to be recieved more positively, possibly due to the novelty.\n",
    "\n",
    "\n",
    "* Duration: Insignificant. Longer talks might tend to bore the audience, perhaps scoring poorly on \"longwinded\" or \"obnoxious\" ratings, but they may also have more of a chance to convey their message.\n",
    "\n",
    "\n",
    "* Comments: coefficient on the comments feature is slightly positive. It seems that talks rated highly are more likely to stimulate discussion, as one might expect.\n",
    "\n",
    "\n",
    "* Languages: large positive coefficient. Translating talks into different languages seems to garner positive ratings.\n",
    "\n",
    "\n",
    "* Views: coefficient very close to zero. As we already control for this by dividing total ratings by views, this is probably not a surprise.\n",
    "\n",
    "\n",
    "* Sentiment: large positive coefficient. Talks with positive descriptions tend to also have higher ratings per viewer, which seems intuitive.\n",
    "\n",
    "Now let's examine the different tags: "
   ]
  },
  {
   "cell_type": "code",
   "execution_count": null,
   "metadata": {
    "collapsed": true
   },
   "outputs": [],
   "source": [
    "plot.hist(x=tag_weights,bins=30,range=(-0.1,0.2),color='black')\n",
    "plotDensityCurve(tag_weights,(-0.1,0.2,30),0.25,5,data=None)"
   ]
  },
  {
   "cell_type": "markdown",
   "metadata": {},
   "source": [
    "We see that the distribution of tag weights follows a multimodal distribution, with one peak around -0.02 (slightly negative coefficient), one peak around 0.03 (slightly positive coefficient), and one peak around 0.13 (large positive coefficient). Which tags are most strongly correlated with high ratings per view?"
   ]
  },
  {
   "cell_type": "code",
   "execution_count": null,
   "metadata": {
    "collapsed": true
   },
   "outputs": [],
   "source": [
    "inverted_tags = dict([v,k] for k,v in all_tags.items())\n",
    "tag_columns = ('features',)\n",
    "tag_df = pd.DataFrame({'features': tag_weights})\n",
    "best_tags = tag_df.sort_values('features',ascending=False).head(10).index.tolist()\n",
    "for tag in best_tags:\n",
    "    print(inverted_tags[tag])"
   ]
  },
  {
   "cell_type": "markdown",
   "metadata": {},
   "source": [
    "These are the most inversely correlated: "
   ]
  },
  {
   "cell_type": "code",
   "execution_count": null,
   "metadata": {
    "collapsed": true
   },
   "outputs": [],
   "source": [
    "worst_tags = tag_df.sort_values('features',ascending=True).head(10).index.tolist()\n",
    "for tag in worst_tags:\n",
    "    print(inverted_tags[tag])"
   ]
  },
  {
   "cell_type": "markdown",
   "metadata": {},
   "source": [
    "It's quite possible this analysis suffers from small sample size. Some tags might have very few talks, skewing the ratings per view excessively. The following code is credited to Rounak Banik for finding the most popular tags: "
   ]
  },
  {
   "cell_type": "code",
   "execution_count": null,
   "metadata": {
    "collapsed": true
   },
   "outputs": [],
   "source": [
    "s = df.apply(lambda x: pd.Series(x['tags']),axis=1).stack().reset_index(level=1, drop=True)\n",
    "s.name = 'theme'\n",
    "theme_df = df.drop('tags', axis=1).join(s)\n",
    "theme_df.head()\n",
    "pop_themes = pd.DataFrame(theme_df['theme'].value_counts()).reset_index()\n",
    "pop_themes.columns = ['theme', 'talks']\n",
    "top_themes = pop_themes.head(20)\n",
    "top_themes"
   ]
  },
  {
   "cell_type": "markdown",
   "metadata": {},
   "source": [
    "The most popular themes for talks, sorted by rating per view coefficient: "
   ]
  },
  {
   "cell_type": "code",
   "execution_count": null,
   "metadata": {
    "collapsed": true
   },
   "outputs": [],
   "source": [
    "top_theme_list = []\n",
    "for theme in top_themes['theme'].tolist():\n",
    "    top_theme_list.append((theme,tag_df['features'].tolist()[all_tags[theme]]))\n",
    "sorted_list = sorted(top_theme_list,key=lambda x: -x[1])\n",
    "theme_list = []\n",
    "weight_list = []\n",
    "for pair in sorted_list:\n",
    "    theme_list.append(pair[0])\n",
    "    weight_list.append(pair[1])"
   ]
  },
  {
   "cell_type": "code",
   "execution_count": null,
   "metadata": {
    "collapsed": true
   },
   "outputs": [],
   "source": [
    "fig,ax = plot.subplots()\n",
    "index = np.arange(0,20)\n",
    "ax.bar(index,weight_list)\n",
    "ax.set_xticklabels(theme_list)\n",
    "plot.xticks(index)\n",
    "for tick in ax.get_xticklabels():\n",
    "    tick.set_rotation(90)\n",
    "plot.show()"
   ]
  },
  {
   "cell_type": "markdown",
   "metadata": {},
   "source": [
    "We see that art, business, communication, and TEDx tend to generate the highest ratings per view. Almost every popular tag has a positive correlation, except collaboration, which ranks the lowest.\n",
    "\n",
    "## Summary ##\n",
    "\n",
    "In this analysis a unified, quantitative measure of rating (aggregate rating per view) was extracted from the data set. Two neural networks were trained on various features, including talk sentiment and themes, to predict this measure, achieving good accuracy. The relationship between ratings and these features was determined through examining the weights of the single-layer neural network."
   ]
  }
 ],
 "metadata": {
  "kernelspec": {
   "display_name": "Python 3",
   "language": "python",
   "name": "python3"
  },
  "language_info": {
   "codemirror_mode": {
    "name": "ipython",
    "version": 3
   },
   "file_extension": ".py",
   "mimetype": "text/x-python",
   "name": "python",
   "nbconvert_exporter": "python",
   "pygments_lexer": "ipython3",
   "version": "3.6.2"
  }
 },
 "nbformat": 4,
 "nbformat_minor": 2
}
