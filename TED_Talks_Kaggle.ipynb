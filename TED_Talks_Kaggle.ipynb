{
 "cells": [
  {
   "cell_type": "markdown",
   "metadata": {
    "_cell_guid": "40d01c3a-4678-4b3c-b9c1-6d40a5de2057",
    "_uuid": "90223b7c37003ef9aad7bb72cf5e0e703867a03f"
   },
   "source": [
    "# Analysis of TED Talk Ratings #\n",
    "\n",
    "Lawrence Pang and Nicholas Vadivelu\n",
    "\n",
    "## Introduction ##\n",
    "\n",
    "In this analysis we try to quantify the impact of various factors on the rating of a TED talk.\n",
    "\n",
    "First we can load the data: "
   ]
  },
  {
   "cell_type": "code",
   "execution_count": 1,
   "metadata": {
    "_cell_guid": "402ae89e-5eee-46f4-8cbf-a936227258f9",
    "_uuid": "87b1eb09d7b474ee00b445f8ec1497721de8a2d9"
   },
   "outputs": [
    {
     "name": "stderr",
     "output_type": "stream",
     "text": [
      "Using TensorFlow backend.\n"
     ]
    }
   ],
   "source": [
    "# Hide warnings if there are any\n",
    "import warnings\n",
    "warnings.filterwarnings('ignore')\n",
    "import ast\n",
    "\n",
    "# Load in Python libraries\n",
    "import pandas as pd\n",
    "import numpy as np\n",
    "import matplotlib\n",
    "import matplotlib.pyplot as plot\n",
    "from textblob import TextBlob\n",
    "from keras.models import Sequential\n",
    "from keras.layers import Dense, Activation, Dropout\n",
    "from keras.regularizers import l2\n",
    "from keras.optimizers import SGD\n",
    "import scipy.stats\n",
    "from scipy.stats import gaussian_kde\n",
    "import re\n",
    "import ast\n",
    "import random\n",
    "from sklearn import preprocessing\n",
    "\n",
    "matplotlib.style.use('ggplot')\n",
    "\n",
    "df = pd.read_csv('../input/ted_main.csv')\n",
    "\n",
    "%matplotlib inline"
   ]
  },
  {
   "cell_type": "markdown",
   "metadata": {
    "_cell_guid": "2cb07ed9-29a5-473f-a738-ba5c706767a2",
    "_uuid": "1051c39bac5df2fe7e976a309ac29078a4915ca6"
   },
   "source": [
    "# Data #\n",
    "First, let's take a look at the data."
   ]
  },
  {
   "cell_type": "code",
   "execution_count": 2,
   "metadata": {
    "_cell_guid": "dd984aee-44b8-483e-88e1-9fc4326ce2b3",
    "_uuid": "1e9aff8945ba448880951240987b2689ea79ada4"
   },
   "outputs": [
    {
     "data": {
      "text/html": [
       "<div>\n",
       "<style>\n",
       "    .dataframe thead tr:only-child th {\n",
       "        text-align: right;\n",
       "    }\n",
       "\n",
       "    .dataframe thead th {\n",
       "        text-align: left;\n",
       "    }\n",
       "\n",
       "    .dataframe tbody tr th {\n",
       "        vertical-align: top;\n",
       "    }\n",
       "</style>\n",
       "<table border=\"1\" class=\"dataframe\">\n",
       "  <thead>\n",
       "    <tr style=\"text-align: right;\">\n",
       "      <th></th>\n",
       "      <th>comments</th>\n",
       "      <th>description</th>\n",
       "      <th>duration</th>\n",
       "      <th>event</th>\n",
       "      <th>film_date</th>\n",
       "      <th>languages</th>\n",
       "      <th>main_speaker</th>\n",
       "      <th>name</th>\n",
       "      <th>num_speaker</th>\n",
       "      <th>published_date</th>\n",
       "      <th>ratings</th>\n",
       "      <th>related_talks</th>\n",
       "      <th>speaker_occupation</th>\n",
       "      <th>tags</th>\n",
       "      <th>title</th>\n",
       "      <th>url</th>\n",
       "      <th>views</th>\n",
       "    </tr>\n",
       "  </thead>\n",
       "  <tbody>\n",
       "    <tr>\n",
       "      <th>1892</th>\n",
       "      <td>65</td>\n",
       "      <td>Aziz Abu Sarah is a Palestinian activist with ...</td>\n",
       "      <td>277</td>\n",
       "      <td>TED2014</td>\n",
       "      <td>1395187200</td>\n",
       "      <td>39</td>\n",
       "      <td>Aziz Abu Sarah</td>\n",
       "      <td>Aziz Abu Sarah: For more tolerance, we need mo...</td>\n",
       "      <td>1</td>\n",
       "      <td>1420646382</td>\n",
       "      <td>[{'id': 1, 'name': 'Beautiful', 'count': 233},...</td>\n",
       "      <td>[{'id': 1537, 'hero': 'https://pe.tedcdn.com/i...</td>\n",
       "      <td>Entrepreneur + educator</td>\n",
       "      <td>['Middle East', 'TED Fellows', 'activism', 'cu...</td>\n",
       "      <td>For more tolerance, we need more ... tourism?</td>\n",
       "      <td>https://www.ted.com/talks/aziz_abu_sarah_for_m...</td>\n",
       "      <td>1301734</td>\n",
       "    </tr>\n",
       "  </tbody>\n",
       "</table>\n",
       "</div>"
      ],
      "text/plain": [
       "      comments                                        description  duration  \\\n",
       "1892        65  Aziz Abu Sarah is a Palestinian activist with ...       277   \n",
       "\n",
       "        event   film_date  languages    main_speaker  \\\n",
       "1892  TED2014  1395187200         39  Aziz Abu Sarah   \n",
       "\n",
       "                                                   name  num_speaker  \\\n",
       "1892  Aziz Abu Sarah: For more tolerance, we need mo...            1   \n",
       "\n",
       "      published_date                                            ratings  \\\n",
       "1892      1420646382  [{'id': 1, 'name': 'Beautiful', 'count': 233},...   \n",
       "\n",
       "                                          related_talks  \\\n",
       "1892  [{'id': 1537, 'hero': 'https://pe.tedcdn.com/i...   \n",
       "\n",
       "           speaker_occupation  \\\n",
       "1892  Entrepreneur + educator   \n",
       "\n",
       "                                                   tags  \\\n",
       "1892  ['Middle East', 'TED Fellows', 'activism', 'cu...   \n",
       "\n",
       "                                              title  \\\n",
       "1892  For more tolerance, we need more ... tourism?   \n",
       "\n",
       "                                                    url    views  \n",
       "1892  https://www.ted.com/talks/aziz_abu_sarah_for_m...  1301734  "
      ]
     },
     "execution_count": 2,
     "metadata": {},
     "output_type": "execute_result"
    }
   ],
   "source": [
    "df.sample()"
   ]
  },
  {
   "cell_type": "markdown",
   "metadata": {
    "_cell_guid": "27ec5f61-40fa-4a2c-81f8-90a7df8fbe40",
    "_uuid": "ef0f3853cbdad2c2dd7e4dac616249ecc2d19504",
    "collapsed": true
   },
   "source": [
    "There are plenty of quantitative features to analyze, including the comments, duration, languages, and more. The description and title can be assessed on their sentiment. We can analyze speakers, tags, and event location using a one-hot encoding.\n",
    "The name category merely combines information from main_speaker and title. Also, the URL is not useful for our purposes. We will not use either.\n",
    "\n",
    "## Measuring Ratings ##\n",
    "\n",
    "To perform this analysis, we need a quantitative definition of a talk's rating. In the data set, such a factor exists, but it is split into various qualitative descriptions. Therefore, we define a measure of aggregate ratings as the sum of some descriptions and the difference of some others. These are considered positive:\n",
    "\n",
    "* Funny\n",
    "* Courageous\n",
    "* Beautiful\n",
    "* Informative\n",
    "* Inspiring\n",
    "* Fascinating\n",
    "* Ingenious\n",
    "* Persuasive\n",
    "* Jaw-dropping\n",
    "\n",
    "These are considered negative:\n",
    "\n",
    "* Confusing\n",
    "* Unconvincing\n",
    "* Longwinded\n",
    "* Obnoxious\n",
    "* OK\n",
    "\n",
    "There are a couple of factors to note. First, there are significantly more positive than negative descriptors. This would have surely created a bias towards positive ratings. Second, rating system allows each viewer to choose up to three of these descriptors per video. If they choose only one, their rating will be counted three times. This is interesting: the number of descriptors one would choose to describe a video does not necessarily correlate with the strength of their opinion.\n",
    "Let us graph the frequency of each qualitative rating, with the positive descriptors in red and negative ones in blue."
   ]
  },
  {
   "cell_type": "code",
   "execution_count": 3,
   "metadata": {
    "_cell_guid": "6b0f7113-ebbf-471d-80fb-ef012791d513",
    "_uuid": "5ce159c6bfffd24fc8183c166b29ec2611594b88"
   },
   "outputs": [
    {
     "data": {
      "image/png": "[encoded data removed]",
      "text/plain": [
       "<matplotlib.figure.Figure at 0x7ff526064a20>"
      ]
     },
     "metadata": {},
     "output_type": "display_data"
    }
   ],
   "source": [
    "\n",
    "df['ratings'] = df['ratings'].apply(lambda x: eval(str(x))) #turns stringified dictionary into python dictionary\n",
    "\n",
    "counter = {'Funny':0, 'Beautiful':0, 'Ingenious':0, 'Courageous':0, 'Longwinded':0, 'Confusing':0, 'Informative':0, 'Fascinating':0, 'Unconvincing':0, 'Persuasive':0, 'Jaw-dropping':0, 'OK':0, 'Obnoxious':0, 'Inspiring':0}\n",
    "\n",
    "for i in range(len(df['ratings'])):\n",
    "    for j in range(len(df['ratings'][i])):\n",
    "        counter[df['ratings'][i][j]['name']] += df['ratings'][i][j]['count']\n",
    "    \n",
    "frequencies = list(counter.values())\n",
    "descr = counter.keys()\n",
    "descriptors = [x for _,x in sorted(zip(frequencies,counter.keys()), reverse=True)]\n",
    "neg_descriptors = {\"Confusing\", \"Unconvincing\", \"Longwinded\", \"Obnoxious\", \"OK\"}\n",
    "neg_indices  = [x for x in range (len(descriptors)) if descriptors[x] in neg_descriptors]\n",
    "frequencies.sort(reverse=True)\n",
    "\n",
    "indices = np.arange(len(descriptors))\n",
    "bar = plot.bar(indices, frequencies, 0.8)\n",
    "[bar[i].set_color('b') for i in neg_indices]\n",
    "plot.xticks(indices, descriptors, rotation=45, ha=\"right\")\n",
    "plot.show()"
   ]
  },
  {
   "cell_type": "markdown",
   "metadata": {
    "_cell_guid": "68970e6e-e561-40cc-8f31-092c16dc76a9",
    "_uuid": "8f5e4b98d56a65c309751e534021b6aea0b3ca33"
   },
   "source": [
    "Our hypothesis was correct: there is a significant bias towards positive ratings. In addition to the rating options available, we may attribute this to the quality of the TED Talks, or the tendency of the average TED viewer to leave positive feedback over negative feedback. Regardless, we must consider this when analyzing the results.\n",
    "\n",
    "Below we will create the aggregateRatings feature as described above."
   ]
  },
  {
   "cell_type": "code",
   "execution_count": 12,
   "metadata": {
    "_cell_guid": "0272e356-98e1-4585-af13-56aa312ff127",
    "_uuid": "23cdb8d5d9111643c503890ab2f25b3533255f59",
    "collapsed": true
   },
   "outputs": [],
   "source": [
    "df['aggregateRatings'] = df['ratings'].apply(lambda x: \\\n",
    "                                            x[0]['count']+ \\\n",
    "                                            x[1]['count']- \\\n",
    "                                            x[2]['count']+ \\\n",
    "                                            x[3]['count']- \\\n",
    "                                            x[4]['count']- \\\n",
    "                                            x[5]['count']+ \\\n",
    "                                            x[6]['count']+ \\\n",
    "                                            x[7]['count']+ \\\n",
    "                                            x[8]['count']+ \\\n",
    "                                            x[9]['count']+ \\\n",
    "                                            x[10]['count']+ \\\n",
    "                                            x[11]['count']- \\\n",
    "                                            x[12]['count']- \\\n",
    "                                            x[13]['count'])\n",
    "                                            \n",
    "\n",
    "ar = df['aggregateRatings']"
   ]
  },
  {
   "cell_type": "markdown",
   "metadata": {
    "_cell_guid": "6f2bb2a3-4e0e-4bf0-a298-6a7566442230",
    "_uuid": "6a76d30eca34e9a6f4bc8ab2ae9e613a17932fbf"
   },
   "source": [
    "## Preliminary Analysis ##\n",
    "\n",
    "Let us examine the relationship between this aggregate rating measure and some factors present in the data set."
   ]
  },
  {
   "cell_type": "code",
   "execution_count": 13,
   "metadata": {
    "_cell_guid": "dd967dfd-b0f0-444b-b1f7-ccd0739a99be",
    "_uuid": "aeedd6933b8dcfe9f4601e169f6a8071b85a7d59"
   },
   "outputs": [
    {
     "data": {
      "image/png": "[encoded data removed]",
      "text/plain": [
       "<matplotlib.figure.Figure at 0x7ff5261f6198>"
      ]
     },
     "metadata": {},
     "output_type": "display_data"
    }
   ],
   "source": [
    "df.plot.scatter(x='languages',y='aggregateRatings',color='black')\n",
    "#define convenience function for trend lines\n",
    "def plotTrendLine(x,y,data=df,color='red',logx=False,logy=False):\n",
    "    oldx = np.reshape(data[x].values,(-1,))\n",
    "    oldy = np.reshape(data[y].values,(-1,))\n",
    "    tempx = oldx if not logx else np.log10(oldx)\n",
    "    tempy = oldy if not logy else np.log10(oldy)\n",
    "    \n",
    "    idx = np.isfinite(tempx) & np.isfinite(tempy)\n",
    "    z = np.polyfit(tempx[idx],tempy[idx],1)\n",
    "    tempy = z[0]*tempx+z[1]\n",
    "    plot.plot(oldx,tempy,color=color)\n",
    "    return z\n",
    "plotTrendLine('languages','aggregateRatings');"
   ]
  },
  {
   "cell_type": "markdown",
   "metadata": {
    "_cell_guid": "f46882ba-dacc-4364-adb0-53b208b79a5d",
    "_uuid": "087af01af2d2684ff4b6a39d3c85762d1d505119"
   },
   "source": [
    "We see that there is a slight correlation between languages and ratings - which doesn't seem immediately intuitive. Possibly this is really attributable to views and comments. "
   ]
  },
  {
   "cell_type": "code",
   "execution_count": 14,
   "metadata": {
    "_cell_guid": "d950edb6-c867-4fcc-bcd3-5962bf974f3c",
    "_uuid": "30d9e27d64cdd84df0bca968cdeeb97c59e3d499"
   },
   "outputs": [
    {
     "data": {
      "image/png": "[encoded data removed]",
      "text/plain": [
       "<matplotlib.figure.Figure at 0x7ff526064f98>"
      ]
     },
     "metadata": {},
     "output_type": "display_data"
    }
   ],
   "source": [
    "df.plot.scatter(x='views',y='aggregateRatings',color='black')\n",
    "plotTrendLine('views','aggregateRatings',logx=True);\n",
    "plot.xscale('log')"
   ]
  },
  {
   "cell_type": "code",
   "execution_count": 15,
   "metadata": {
    "_cell_guid": "679e192a-31fa-4285-93ef-58ff1681a578",
    "_uuid": "b6bf72f55ce5b48746f87379262c2546802e9bfc"
   },
   "outputs": [
    {
     "data": {
      "image/png": "[encoded data removed]",
      "text/plain": [
       "<matplotlib.figure.Figure at 0x7ff516bf5390>"
      ]
     },
     "metadata": {},
     "output_type": "display_data"
    }
   ],
   "source": [
    "df.plot.scatter(x='comments',y='aggregateRatings',color='black')\n",
    "plotTrendLine('comments','aggregateRatings',logx=True);\n",
    "plot.xscale('log')"
   ]
  },
  {
   "cell_type": "markdown",
   "metadata": {
    "_cell_guid": "5ddae04a-6628-443f-9566-a1a5bf13c76c",
    "_uuid": "ac1305cc8058928df461ae00f45e0e4c270fba9e"
   },
   "source": [
    "Again, there is a general positive trend in both cases, with some outliers tending towards more negative ratings. We can conlude rather naturally that talks people like seem to be more viewed and commented on, and thus rated more highly. However, this also introduces a rating bias toward more highly-viewed talks. Thus, we define a new data column which is average aggregate rating:"
   ]
  },
  {
   "cell_type": "code",
   "execution_count": 16,
   "metadata": {
    "_cell_guid": "c8396050-ae79-466a-866c-71b49f63f23a",
    "_uuid": "9a6e758e6d03b6235f8a4bc27de8871e9ec2c4a6"
   },
   "outputs": [
    {
     "data": {
      "image/png": "[encoded data removed]",
      "text/plain": [
       "<matplotlib.figure.Figure at 0x7ff51e471208>"
      ]
     },
     "metadata": {},
     "output_type": "display_data"
    }
   ],
   "source": [
    "df['totalRatings'] = df['ratings'].apply(lambda x: sum([x[i]['count'] for i in range(len(x))]))\n",
    "\n",
    "df['avgPerRating'] = df['aggregateRatings']/df['totalRatings']\n",
    "plot.hist(x=df['avgPerRating'],bins=50,range=(-1,1),color='black')\n",
    "#convenience function for density curve plotting\n",
    "def plotDensityCurve(x,linspace,covariance_factor=0.25,multiplier=1,data=df,color='red'):\n",
    "    tempx = np.reshape(data[x].values,(-1,)) if data is not None else x\n",
    "    density = gaussian_kde(tempx)\n",
    "    xs = np.linspace(linspace[0],linspace[1],linspace[2])\n",
    "    density.covariance_factor = lambda: covariance_factor\n",
    "    density._compute_covariance()\n",
    "    plot.plot(xs,density(xs)*multiplier)\n",
    "plotDensityCurve('avgPerRating',(-1,1,50),multiplier=100)"
   ]
  },
  {
   "cell_type": "markdown",
   "metadata": {
    "_cell_guid": "492ff1ca-d986-4bd5-a0e5-17d34ee523fb",
    "_uuid": "a000dbb85312c7dd4c158bb01979a96202f5137e"
   },
   "source": [
    "A histogram of per-view ratings. Note that most talks fall on the positive side - most ratings given are positive. "
   ]
  },
  {
   "cell_type": "code",
   "execution_count": 17,
   "metadata": {
    "_cell_guid": "6a79e84d-34fd-4f00-8a33-1e423572ef2d",
    "_uuid": "e1faab19aa2386a4c7b00a84d1648486c3828ab3"
   },
   "outputs": [
    {
     "name": "stdout",
     "output_type": "stream",
     "text": [
      "Slope: 0.0074883099868\n"
     ]
    },
    {
     "data": {
      "image/png": "[encoded data removed]",
      "text/plain": [
       "<matplotlib.figure.Figure at 0x7ff51e529438>"
      ]
     },
     "metadata": {},
     "output_type": "display_data"
    }
   ],
   "source": [
    "df.plot.scatter(x='comments',y='avgPerRating',color='black')\n",
    "coeffs = plotTrendLine('comments','avgPerRating',logx=True);\n",
    "plot.xscale('log')\n",
    "print(\"Slope: \"+str(coeffs[0]))"
   ]
  },
  {
   "cell_type": "code",
   "execution_count": 18,
   "metadata": {
    "_cell_guid": "09151965-44e7-4306-9dea-9dd4ffed2c34",
    "_uuid": "48209e363910f4a228cf61a52c058ab44459104b"
   },
   "outputs": [
    {
     "name": "stdout",
     "output_type": "stream",
     "text": [
      "Slope: 0.0182969786616\n"
     ]
    },
    {
     "data": {
      "image/png": "[encoded data removed]",
      "text/plain": [
       "<matplotlib.figure.Figure at 0x7ff516af68d0>"
      ]
     },
     "metadata": {},
     "output_type": "display_data"
    }
   ],
   "source": [
    "df.plot.scatter(x='views',y='avgPerRating',color='black')\n",
    "coeffs = plotTrendLine('views','avgPerRating',logx=True);\n",
    "plot.xscale('log')\n",
    "print(\"Slope: \"+str(coeffs[0]))"
   ]
  },
  {
   "cell_type": "markdown",
   "metadata": {
    "_cell_guid": "7fb317fa-6e06-4554-a89d-487c6f8632d7",
    "_uuid": "a19b4bf598b5bd2e6c42c89a2daadc8e91076ab1"
   },
   "source": [
    "This is more interesting. While more comments seem to indicate higher ratings per view, the opposite is true for number of views.\n",
    "\n",
    "# Related Video Analysis #\n",
    "\n",
    "This dataset also provides a list of related for each video. Let us find groups of videos which are connected."
   ]
  },
  {
   "cell_type": "code",
   "execution_count": 19,
   "metadata": {
    "_cell_guid": "a3c2ee59-9fab-4f21-87bc-127a53750698",
    "_uuid": "041effb9037e364d37c37e5849957d8cbc34e0cd"
   },
   "outputs": [
    {
     "name": "stdout",
     "output_type": "stream",
     "text": [
      "Number of groups: 344\n",
      "Largest Group Size: 7\n",
      "Smallest Group Size: 2\n",
      "Average Group Size: 6.71802325581\n"
     ]
    },
    {
     "data": {
      "image/png": "[encoded data removed]",
      "text/plain": [
       "<matplotlib.figure.Figure at 0x7ff5147dcda0>"
      ]
     },
     "metadata": {},
     "output_type": "display_data"
    }
   ],
   "source": [
    "df['related_talks'] = df['related_talks'].apply(lambda x: eval(str(x)))\n",
    "\n",
    "groups = {}\n",
    "for i in range(len(df)):\n",
    "    cur = df['title'][i]\n",
    "    related = [df['related_talks'][i][j]['title'] for j in range(len(df['related_talks'][i]))]\n",
    "    groups[cur] = set(related)\n",
    "    groups[cur].add(cur)\n",
    "    for rel in related:\n",
    "        if rel in groups and rel != cur:\n",
    "            groups[cur].union(groups.pop(rel))\n",
    "                   \n",
    "groups = [g for g in groups.values() if len(g) > 0]\n",
    "lens = [len(t) for t in groups]\n",
    "\n",
    "plot.hist(lens,color='black')\n",
    "print(\"Number of groups: \" + str(len(groups)))\n",
    "print(\"Largest Group Size: \" + str(max(lens)))\n",
    "print(\"Smallest Group Size: \" + str(min(lens)))\n",
    "print(\"Average Group Size: \" + str(np.mean(lens)))"
   ]
  },
  {
   "cell_type": "markdown",
   "metadata": {
    "_cell_guid": "9b1c8280-3ce2-4d3b-9f93-7aafe767228d",
    "_uuid": "311971f98c6365535911e4b3dad6dab0b1f95d23"
   },
   "source": [
    "Suprisingly, most groups are of size 7. This implies that groups of videos form related groups, whereby each video recommends every other video in the group. These videos are likely grouped in this way through tags, but let us see if there is any relationship between the aggregate rating of the video and the group it is in. We will do this by comparing the standard deviation of the average aggregate scores in each group with the standard deviation of the entire set."
   ]
  },
  {
   "cell_type": "code",
   "execution_count": 20,
   "metadata": {
    "_cell_guid": "7d1c0a51-334c-47cf-84bc-cce03bbefcfc",
    "_uuid": "2a4e514ff9acb9557fe2e6fe804f86d06c29d4e1"
   },
   "outputs": [
    {
     "name": "stdout",
     "output_type": "stream",
     "text": [
      "Standard deviation for the set: 0.24348928007078519\n",
      "Average standard deviation among groups: 0.214335314769\n"
     ]
    },
    {
     "data": {
      "image/png": "[encoded data removed]",
      "text/plain": [
       "<matplotlib.figure.Figure at 0x7ff5169a7e80>"
      ]
     },
     "metadata": {},
     "output_type": "display_data"
    }
   ],
   "source": [
    "title_to_id = {}\n",
    "for i in range(len(df)):\n",
    "    title_to_id[df['title'][i]] = i\n",
    "\n",
    "group_avg = []\n",
    "for g in groups:\n",
    "    group_avg.append([df['avgPerRating'][title_to_id[title]] for title in g])\n",
    "\n",
    "group_std = [np.std(nums) for nums in group_avg]\n",
    "plot.hist(group_std,color='black')\n",
    "print(\"Standard deviation for the set: \" + str(np.std(df['avgPerRating'])))\n",
    "print(\"Average standard deviation among groups: \" + str(np.mean(group_std)))"
   ]
  },
  {
   "cell_type": "markdown",
   "metadata": {
    "_cell_guid": "eee0a72d-2909-4c78-91a6-3b28cc52a60f",
    "_uuid": "09359e9b1cd2f8bdf35999f4240d8ab40d7b32f1"
   },
   "source": [
    "From above, the standard deviations in the average aggregate scores within the groups is very similar to the standard deviation of the average aggregate scores for the set overall. This means that these groups range in user satisfaction almost as much the videos overall, implying that the relatedness of two videos is not a strong indicator of their quality.\n",
    "\n",
    "## Machine Learning ##\n",
    "\n",
    "What about trying to predict ratings per view based on various factors? This is where machine learning comes in. Let us revisit the data."
   ]
  },
  {
   "cell_type": "code",
   "execution_count": 21,
   "metadata": {
    "_cell_guid": "6a2ba3ea-c374-498e-a2e3-8112502abe86",
    "_uuid": "310b7a462de95395057dce4cde26c251c858baee"
   },
   "outputs": [
    {
     "data": {
      "text/html": [
       "<div>\n",
       "<style>\n",
       "    .dataframe thead tr:only-child th {\n",
       "        text-align: right;\n",
       "    }\n",
       "\n",
       "    .dataframe thead th {\n",
       "        text-align: left;\n",
       "    }\n",
       "\n",
       "    .dataframe tbody tr th {\n",
       "        vertical-align: top;\n",
       "    }\n",
       "</style>\n",
       "<table border=\"1\" class=\"dataframe\">\n",
       "  <thead>\n",
       "    <tr style=\"text-align: right;\">\n",
       "      <th></th>\n",
       "      <th>comments</th>\n",
       "      <th>description</th>\n",
       "      <th>duration</th>\n",
       "      <th>event</th>\n",
       "      <th>film_date</th>\n",
       "      <th>languages</th>\n",
       "      <th>main_speaker</th>\n",
       "      <th>name</th>\n",
       "      <th>num_speaker</th>\n",
       "      <th>published_date</th>\n",
       "      <th>ratings</th>\n",
       "      <th>related_talks</th>\n",
       "      <th>speaker_occupation</th>\n",
       "      <th>tags</th>\n",
       "      <th>title</th>\n",
       "      <th>url</th>\n",
       "      <th>views</th>\n",
       "      <th>aggregateRatings</th>\n",
       "      <th>totalRatings</th>\n",
       "      <th>avgPerRating</th>\n",
       "    </tr>\n",
       "  </thead>\n",
       "  <tbody>\n",
       "    <tr>\n",
       "      <th>2315</th>\n",
       "      <td>146</td>\n",
       "      <td>The smartphone you use reflects more than just...</td>\n",
       "      <td>464</td>\n",
       "      <td>TEDSummit</td>\n",
       "      <td>1467158400</td>\n",
       "      <td>30</td>\n",
       "      <td>Christopher Soghoian</td>\n",
       "      <td>Christopher Soghoian: Your smartphone is a civ...</td>\n",
       "      <td>1</td>\n",
       "      <td>1477926404</td>\n",
       "      <td>[{'id': 21, 'name': 'Unconvincing', 'count': 3...</td>\n",
       "      <td>[{'id': 2314, 'hero': 'https://pe.tedcdn.com/i...</td>\n",
       "      <td>Privacy researcher and activist</td>\n",
       "      <td>['Internet', 'Surveillance', 'TED Fellows', 'a...</td>\n",
       "      <td>Your smartphone is a civil rights issue</td>\n",
       "      <td>https://www.ted.com/talks/christopher_soghoian...</td>\n",
       "      <td>1307805</td>\n",
       "      <td>1217</td>\n",
       "      <td>1775</td>\n",
       "      <td>0.685634</td>\n",
       "    </tr>\n",
       "  </tbody>\n",
       "</table>\n",
       "</div>"
      ],
      "text/plain": [
       "      comments                                        description  duration  \\\n",
       "2315       146  The smartphone you use reflects more than just...       464   \n",
       "\n",
       "          event   film_date  languages          main_speaker  \\\n",
       "2315  TEDSummit  1467158400         30  Christopher Soghoian   \n",
       "\n",
       "                                                   name  num_speaker  \\\n",
       "2315  Christopher Soghoian: Your smartphone is a civ...            1   \n",
       "\n",
       "      published_date                                            ratings  \\\n",
       "2315      1477926404  [{'id': 21, 'name': 'Unconvincing', 'count': 3...   \n",
       "\n",
       "                                          related_talks  \\\n",
       "2315  [{'id': 2314, 'hero': 'https://pe.tedcdn.com/i...   \n",
       "\n",
       "                   speaker_occupation  \\\n",
       "2315  Privacy researcher and activist   \n",
       "\n",
       "                                                   tags  \\\n",
       "2315  ['Internet', 'Surveillance', 'TED Fellows', 'a...   \n",
       "\n",
       "                                        title  \\\n",
       "2315  Your smartphone is a civil rights issue   \n",
       "\n",
       "                                                    url    views  \\\n",
       "2315  https://www.ted.com/talks/christopher_soghoian...  1307805   \n",
       "\n",
       "      aggregateRatings  totalRatings  avgPerRating  \n",
       "2315              1217          1775      0.685634  "
      ]
     },
     "execution_count": 21,
     "metadata": {},
     "output_type": "execute_result"
    }
   ],
   "source": [
    "df.sample()"
   ]
  },
  {
   "cell_type": "markdown",
   "metadata": {
    "_cell_guid": "577e9976-d698-4ea6-be8f-c6c0f5e432bc",
    "_uuid": "59c8c03fcd678f1c4a3c0b5e689ef54af950fb01"
   },
   "source": [
    "From the sample, there are 7 numeric features that we can use:"
   ]
  },
  {
   "cell_type": "code",
   "execution_count": 26,
   "metadata": {
    "_cell_guid": "aa58c860-a3da-4bd2-931c-8aafcd061f87",
    "_uuid": "a95ef3366f9a9a528006d78c3271b99fdcbcf4c4",
    "collapsed": true
   },
   "outputs": [],
   "source": [
    "mldf = df[['num_speaker','duration','comments','languages','views', 'film_date', 'published_date']]"
   ]
  },
  {
   "cell_type": "markdown",
   "metadata": {
    "_cell_guid": "67bff617-db1f-4bfc-bbe5-5f854c026b45",
    "_uuid": "0fcb2cc64063b751bd52a274544a7dc0d02b37c3"
   },
   "source": [
    "Currently, this just consists of numerical values which already exist in the TED talks data set. However, it leaves out a lot of factors, such as the title and description of the talk. We can analyze these with natural language processing. \n",
    "\n",
    "There are a few approaches that can be taken. One of the possibilities is to perform a sentiment analysis on the description (or possibly the title) and consider this a feature. We can do this with the TextBlob library:"
   ]
  },
  {
   "cell_type": "code",
   "execution_count": 27,
   "metadata": {
    "_cell_guid": "59c36c74-cf35-4b47-af77-7db3178dd210",
    "_uuid": "a2036b74c8d332b2270fd1a847642ba98128f400"
   },
   "outputs": [
    {
     "name": "stdout",
     "output_type": "stream",
     "text": [
      "Sentiment: \n",
      "0    0.291667\n",
      "1   -0.115909\n",
      "2   -0.081981\n",
      "3    0.000000\n",
      "4    0.000000\n",
      "Name: descriptionSentiment, dtype: float64\n",
      "Description: \n",
      "0    Sir Ken Robinson makes an entertaining and pro...\n",
      "1    With the same humor and humanity he exuded in ...\n",
      "2    New York Times columnist David Pogue takes aim...\n",
      "3    In an emotionally charged talk, MacArthur-winn...\n",
      "4    You've never seen data presented like this. Wi...\n",
      "Name: description, dtype: object\n"
     ]
    }
   ],
   "source": [
    "mldf['descriptionSentiment'] = df['description'].apply(lambda x:TextBlob(re.sub(r'[^\\x00-\\x7f]',r'',x)).sentiment.polarity)\n",
    "print(\"Sentiment: \")\n",
    "print(mldf['descriptionSentiment'].head())\n",
    "print(\"Description: \")\n",
    "print(df['description'].head())"
   ]
  },
  {
   "cell_type": "markdown",
   "metadata": {
    "_cell_guid": "41459288-a658-4c5d-a242-a39351eba989",
    "_uuid": "09c81a39cfe36ad5b99450930937630178207800"
   },
   "source": [
    "We can also analyze tags and the event location. We can create a one-hot encoding:"
   ]
  },
  {
   "cell_type": "code",
   "execution_count": 28,
   "metadata": {
    "_cell_guid": "0d26e3c1-e8dc-4942-8a9d-9d20429eda51",
    "_uuid": "ce5b4c9299215194232aff0ea980d0bf30b0c2d7",
    "collapsed": true
   },
   "outputs": [],
   "source": [
    "df['tags'] = df['tags'].apply(lambda x:eval(str(x)))\n",
    "all_tags = {}\n",
    "count = 0\n",
    "for talk in df['tags']:\n",
    "    for tag in talk:\n",
    "        if not tag in all_tags:\n",
    "            all_tags[tag] = count\n",
    "            count = count+1\n",
    "onehot = np.zeros((0,count))\n",
    "for talk in df['tags']:\n",
    "    temp = np.zeros((1,count))\n",
    "    for tag in talk:\n",
    "        temp[0,all_tags[tag]] = 1\n",
    "    onehot = np.concatenate((onehot,temp),0)"
   ]
  },
  {
   "cell_type": "markdown",
   "metadata": {
    "_cell_guid": "dd3ac39d-e72f-420e-8692-bc3b01d3db95",
    "_uuid": "831c0298dd812a22b6992a03351610d9a1ed3e31"
   },
   "source": [
    "Now we are ready to create the machine learning model. Our model will be a neural network, implemented in Keras using a TensorFlow backend. We first create the training and validation data sets, then we create the model."
   ]
  },
  {
   "cell_type": "code",
   "execution_count": 30,
   "metadata": {
    "_cell_guid": "d38511b7-c921-431f-bf0c-da406882f20b",
    "_uuid": "61af382c98748f70e1ca349db765c1a101f9f7c2",
    "collapsed": true
   },
   "outputs": [],
   "source": [
    "mldf_np = mldf.as_matrix()\n",
    "all_y = np.reshape(df['avgPerRating'].as_matrix(),(-1,1))\n",
    "all_x = np.concatenate((mldf_np,onehot),1)\n",
    "combined = np.concatenate((all_x,all_y),1)\n",
    "np.random.shuffle(combined)\n",
    "data_size = np.shape(all_y)[0]\n",
    "train_size = (int)(data_size*0.75)\n",
    "feature_size = np.shape(all_x)[1]\n",
    "x_train = combined[0:train_size,0:feature_size]\n",
    "y_train = np.reshape(combined[0:train_size,feature_size],(-1,1))\n",
    "x_val = combined[train_size:data_size,0:feature_size]\n",
    "y_val = np.reshape(combined[train_size:data_size,feature_size],(-1,1))"
   ]
  },
  {
   "cell_type": "code",
   "execution_count": 77,
   "metadata": {
    "_cell_guid": "266f2e3d-b9b3-4d78-a9dc-a40ee5ac0458",
    "_uuid": "9a6b40446eb6f420aa0f5e8d66fe8a603c05cc0f"
   },
   "outputs": [
    {
     "name": "stdout",
     "output_type": "stream",
     "text": [
      "Train on 1912 samples, validate on 638 samples\n",
      "Epoch 1/50\n",
      "1912/1912 [==============================] - 1s 476us/step - loss: 0.8538 - val_loss: 1.2715\n",
      "Epoch 2/50\n",
      "1912/1912 [==============================] - 0s 47us/step - loss: 0.5556 - val_loss: 0.9561\n",
      "Epoch 3/50\n",
      "1912/1912 [==============================] - 0s 43us/step - loss: 0.3989 - val_loss: 0.7510\n",
      "Epoch 4/50\n",
      "1912/1912 [==============================] - 0s 44us/step - loss: 0.2959 - val_loss: 0.5962\n",
      "Epoch 5/50\n",
      "1912/1912 [==============================] - 0s 46us/step - loss: 0.2302 - val_loss: 0.4833\n",
      "Epoch 6/50\n",
      "1912/1912 [==============================] - 0s 42us/step - loss: 0.1797 - val_loss: 0.4019\n",
      "Epoch 7/50\n",
      "1912/1912 [==============================] - 0s 46us/step - loss: 0.1458 - val_loss: 0.3355\n",
      "Epoch 8/50\n",
      "1912/1912 [==============================] - 0s 44us/step - loss: 0.1252 - val_loss: 0.2863\n",
      "Epoch 9/50\n",
      "1912/1912 [==============================] - 0s 44us/step - loss: 0.1037 - val_loss: 0.2478\n",
      "Epoch 10/50\n",
      "1912/1912 [==============================] - 0s 48us/step - loss: 0.0921 - val_loss: 0.2170\n",
      "Epoch 11/50\n",
      "1912/1912 [==============================] - 0s 45us/step - loss: 0.0820 - val_loss: 0.1947\n",
      "Epoch 12/50\n",
      "1912/1912 [==============================] - 0s 46us/step - loss: 0.0752 - val_loss: 0.1784\n",
      "Epoch 13/50\n",
      "1912/1912 [==============================] - 0s 51us/step - loss: 0.0698 - val_loss: 0.1626\n",
      "Epoch 14/50\n",
      "1912/1912 [==============================] - 0s 48us/step - loss: 0.0657 - val_loss: 0.1527\n",
      "Epoch 15/50\n",
      "1912/1912 [==============================] - 0s 44us/step - loss: 0.0629 - val_loss: 0.1413\n",
      "Epoch 16/50\n",
      "1912/1912 [==============================] - 0s 48us/step - loss: 0.0597 - val_loss: 0.1362\n",
      "Epoch 17/50\n",
      "1912/1912 [==============================] - 0s 45us/step - loss: 0.0574 - val_loss: 0.1270\n",
      "Epoch 18/50\n",
      "1912/1912 [==============================] - 0s 43us/step - loss: 0.0562 - val_loss: 0.1222\n",
      "Epoch 19/50\n",
      "1912/1912 [==============================] - 0s 47us/step - loss: 0.0545 - val_loss: 0.1220\n",
      "Epoch 20/50\n",
      "1912/1912 [==============================] - 0s 49us/step - loss: 0.0533 - val_loss: 0.1166\n",
      "Epoch 21/50\n",
      "1912/1912 [==============================] - 0s 43us/step - loss: 0.0526 - val_loss: 0.1150\n",
      "Epoch 22/50\n",
      "1912/1912 [==============================] - 0s 51us/step - loss: 0.0521 - val_loss: 0.1130\n",
      "Epoch 23/50\n",
      "1912/1912 [==============================] - 0s 50us/step - loss: 0.0510 - val_loss: 0.1110\n",
      "Epoch 24/50\n",
      "1912/1912 [==============================] - 0s 53us/step - loss: 0.0507 - val_loss: 0.1091\n",
      "Epoch 25/50\n",
      "1912/1912 [==============================] - 0s 48us/step - loss: 0.0503 - val_loss: 0.1089\n",
      "Epoch 26/50\n",
      "1912/1912 [==============================] - 0s 49us/step - loss: 0.0510 - val_loss: 0.1066\n",
      "Epoch 27/50\n",
      "1912/1912 [==============================] - 0s 48us/step - loss: 0.0502 - val_loss: 0.1062\n",
      "Epoch 28/50\n",
      "1912/1912 [==============================] - 0s 46us/step - loss: 0.0502 - val_loss: 0.1055\n",
      "Epoch 29/50\n",
      "1912/1912 [==============================] - 0s 46us/step - loss: 0.0498 - val_loss: 0.1049\n",
      "Epoch 30/50\n",
      "1912/1912 [==============================] - 0s 45us/step - loss: 0.0501 - val_loss: 0.1058\n",
      "Epoch 31/50\n",
      "1912/1912 [==============================] - 0s 44us/step - loss: 0.0497 - val_loss: 0.1035\n",
      "Epoch 32/50\n",
      "1912/1912 [==============================] - 0s 45us/step - loss: 0.0492 - val_loss: 0.1034\n",
      "Epoch 33/50\n",
      "1912/1912 [==============================] - 0s 45us/step - loss: 0.0496 - val_loss: 0.1021\n",
      "Epoch 34/50\n",
      "1912/1912 [==============================] - 0s 44us/step - loss: 0.0494 - val_loss: 0.1027\n",
      "Epoch 35/50\n",
      "1912/1912 [==============================] - 0s 47us/step - loss: 0.0496 - val_loss: 0.1025\n",
      "Epoch 36/50\n",
      "1912/1912 [==============================] - 0s 47us/step - loss: 0.0493 - val_loss: 0.1040\n",
      "Epoch 37/50\n",
      "1912/1912 [==============================] - 0s 46us/step - loss: 0.0493 - val_loss: 0.1019\n",
      "Epoch 38/50\n",
      "1912/1912 [==============================] - 0s 54us/step - loss: 0.0493 - val_loss: 0.0989\n",
      "Epoch 39/50\n",
      "1912/1912 [==============================] - 0s 47us/step - loss: 0.0496 - val_loss: 0.0994\n",
      "Epoch 40/50\n",
      "1912/1912 [==============================] - 0s 47us/step - loss: 0.0492 - val_loss: 0.1022\n",
      "Epoch 41/50\n",
      "1912/1912 [==============================] - 0s 44us/step - loss: 0.0489 - val_loss: 0.1014\n",
      "Epoch 42/50\n",
      "1912/1912 [==============================] - 0s 44us/step - loss: 0.0494 - val_loss: 0.1009\n",
      "Epoch 43/50\n",
      "1912/1912 [==============================] - 0s 43us/step - loss: 0.0495 - val_loss: 0.1013\n",
      "Epoch 44/50\n",
      "1912/1912 [==============================] - 0s 44us/step - loss: 0.0493 - val_loss: 0.1013\n",
      "Epoch 45/50\n",
      "1912/1912 [==============================] - 0s 48us/step - loss: 0.0494 - val_loss: 0.0968\n",
      "Epoch 46/50\n",
      "1912/1912 [==============================] - 0s 50us/step - loss: 0.0500 - val_loss: 0.0998\n",
      "Epoch 47/50\n",
      "1912/1912 [==============================] - 0s 47us/step - loss: 0.0491 - val_loss: 0.0994\n",
      "Epoch 48/50\n",
      "1912/1912 [==============================] - 0s 51us/step - loss: 0.0489 - val_loss: 0.0999\n",
      "Epoch 49/50\n",
      "1912/1912 [==============================] - 0s 51us/step - loss: 0.0491 - val_loss: 0.0996\n",
      "Epoch 50/50\n",
      "1912/1912 [==============================] - 0s 51us/step - loss: 0.0494 - val_loss: 0.0997\n"
     ]
    }
   ],
   "source": [
    "import keras.optimizers as op\n",
    "from keras.layers import BatchNormalization\n",
    "\n",
    "model = Sequential()\n",
    "model.add(BatchNormalization(input_shape=(feature_size,)))\n",
    "model.add(Dense(1,kernel_regularizer=l2(0.01)))\n",
    "model.compile(loss='mean_squared_error',optimizer=\"adam\")\n",
    "history = model.fit(x=x_train,y=y_train,batch_size=64,epochs=50,validation_data=(x_val,y_val))"
   ]
  },
  {
   "cell_type": "markdown",
   "metadata": {
    "_cell_guid": "0928d2c1-9546-4c1b-b51e-5ab6c8e7a6d9",
    "_uuid": "b0bdbe529430725aaa4aaf086218cb574a9ca600"
   },
   "source": [
    "We can graph the loss for this network as well."
   ]
  },
  {
   "cell_type": "code",
   "execution_count": 78,
   "metadata": {
    "_cell_guid": "d036ee98-201d-4acf-b031-1935fe25457e",
    "_uuid": "6efaf4792fd7d8a763ee22f01280920711474458"
   },
   "outputs": [
    {
     "data": {
      "text/plain": [
       "[<matplotlib.lines.Line2D at 0x7ff3b1f12080>]"
      ]
     },
     "execution_count": 78,
     "metadata": {},
     "output_type": "execute_result"
    },
    {
     "data": {
      "image/png": "[encoded data removed]",
      "text/plain": [
       "<matplotlib.figure.Figure at 0x7ff3b1e499b0>"
      ]
     },
     "metadata": {},
     "output_type": "display_data"
    }
   ],
   "source": [
    "loss = history.history['loss']\n",
    "val_loss = history.history['val_loss']\n",
    "epochs = np.arange(1,len(loss)+1)\n",
    "plot.plot(epochs,loss,color='red')\n",
    "plot.plot(epochs,val_loss,color='blue')"
   ]
  },
  {
   "cell_type": "markdown",
   "metadata": {
    "_cell_guid": "180b76a3-df6b-4e4d-92b1-a4f5f5cae83a",
    "_uuid": "a01fb80ab3793026c9d6a1b47616ec9fbe6d897d"
   },
   "source": [
    "This neural network has the benefit of being easier to understand. As this neural network has linear activation with no hidden layers, its weights can be interpreted as directly affecting the final rating per view. A positive weight would indicate some correlation between that feature and rating per view, and vice versa.\n",
    "\n",
    "## Factor Analysis ##\n",
    "\n",
    "We first split the weights into two categories. existing_weights consists of the existing numerical features in the data set, as well as the sentiment of the description. tag_weights, a larger set of features, consists of the weights of each TED talk tag. "
   ]
  },
  {
   "cell_type": "code",
   "execution_count": 79,
   "metadata": {
    "_cell_guid": "5ad61d8b-ec0a-4ffa-a335-90ebc157c7c9",
    "_uuid": "acc04b1a70e3794008608175b0dde713d046f07c",
    "collapsed": true
   },
   "outputs": [],
   "source": [
    "all_weights_temp = model.layers[1].get_weights()[0]\n",
    "all_weights = []\n",
    "for weight in all_weights_temp:\n",
    "    all_weights.append(weight[0])\n",
    "existing_weights = all_weights[:6]\n",
    "tag_weights = all_weights[6:]"
   ]
  },
  {
   "cell_type": "markdown",
   "metadata": {
    "_cell_guid": "d43968aa-66a2-4a0c-950d-ee7ce04d718a",
    "_uuid": "08019587d6f24e186d041d052b5912e808a8b940"
   },
   "source": [
    "Let's first examine the relationship between rating per view and the existing numerical features in the data set."
   ]
  },
  {
   "cell_type": "code",
   "execution_count": 80,
   "metadata": {
    "_cell_guid": "e621d2ef-2270-4a19-b54c-b1c0cfb41744",
    "_uuid": "e401c94c7298b45df5c14d162e134f4f21f10f6c"
   },
   "outputs": [
    {
     "data": {
      "image/png": "[encoded data removed]",
      "text/plain": [
       "<matplotlib.figure.Figure at 0x7ff3b1998fd0>"
      ]
     },
     "metadata": {},
     "output_type": "display_data"
    }
   ],
   "source": [
    "fig,ax = plot.subplots()\n",
    "index = np.arange(0,6)\n",
    "ax.bar(index,existing_weights)\n",
    "ax.set_xticklabels(('','num_speaker','duration','comments','languages','views','sentiment'))\n",
    "plot.show()"
   ]
  },
  {
   "cell_type": "markdown",
   "metadata": {
    "_cell_guid": "3c32f917-861e-4594-a9fe-32809083b8c7",
    "_uuid": "7142c804a451ce412893c0c1db80a76d1175dc9f"
   },
   "source": [
    "Examining each feature in order: \n",
    "\n",
    "* Number of speakers: significant negative coefficient. Talks with multiple speakers seem to be recieved negatively, possibly due to a lack of cohesion.\n",
    "\n",
    "\n",
    "* Duration: significant negative coefficient. Longer talks might tend to bore the audience, perhaps scoring poorly on \"longwinded\" or \"obnoxious\" ratings.\n",
    "\n",
    "\n",
    "* Comments: large negative coefficient. It seems that talks rated negatively are more likely to stir up controversy.\n",
    "\n",
    "\n",
    "* Languages: small positive coefficient. Translating talks into different languages seems to garner positive ratings.\n",
    "\n",
    "\n",
    "* Views: sarge positive coefficient. Well liked talks generate more views, as one might expect.\n",
    "\n",
    "* Sentiment: small negative coefficient. Counterintuitively, talks with more positive sentiment don't seem to get higher ratings.\n",
    "\n",
    "Now let's examine the different tags: "
   ]
  },
  {
   "cell_type": "code",
   "execution_count": 84,
   "metadata": {
    "_cell_guid": "5d252e5b-ce67-4b68-984d-67508a3ba90a",
    "_uuid": "a7e3d509ac316394f8ad179cb82b1da5d1241b2f"
   },
   "outputs": [
    {
     "data": {
      "image/png": "[encoded data removed]",
      "text/plain": [
       "<matplotlib.figure.Figure at 0x7ff3b1722668>"
      ]
     },
     "metadata": {},
     "output_type": "display_data"
    }
   ],
   "source": [
    "plot.hist(x=tag_weights,bins=30,range=(-0.07,0.07),color='black')\n",
    "plotDensityCurve(tag_weights,(-0.07,0.07,30),0.25,5,data=None)"
   ]
  },
  {
   "cell_type": "markdown",
   "metadata": {
    "_cell_guid": "0f8e2b97-1da6-406d-8683-a93dce847f51",
    "_uuid": "c3f4a00d9cfdaea52db961e9b8912ab8c1e5d7df"
   },
   "source": [
    "We see that the distribution of tag weights follows a binomial distribution. Which tags are most strongly correlated with high ratings per view?"
   ]
  },
  {
   "cell_type": "code",
   "execution_count": 92,
   "metadata": {
    "_cell_guid": "056a744b-094a-4819-8a3b-8761ab5b6e1d",
    "_uuid": "a6f8ed7e617a808bef115a787ff8891484f6bd4d"
   },
   "outputs": [
    {
     "name": "stdout",
     "output_type": "stream",
     "text": [
      "meme\n",
      "blockchain\n",
      "ecology\n",
      "algorithm\n",
      "TED en Español\n",
      "introvert\n",
      "china\n",
      "capitalism\n",
      "prediction\n",
      "origami\n"
     ]
    }
   ],
   "source": [
    "inverted_tags = dict([v,k] for k,v in all_tags.items())\n",
    "tag_columns = ('features',)\n",
    "tag_df = pd.DataFrame({'features': tag_weights})\n",
    "best_tags = tag_df.sort_values('features',ascending=False).head(10).index.tolist()\n",
    "for tag in best_tags:\n",
    "    print(inverted_tags[tag]) if tag in inverted_tags else \"\""
   ]
  },
  {
   "cell_type": "markdown",
   "metadata": {
    "_cell_guid": "93f775ae-da20-4bb1-a07b-844e9c5b2c1a",
    "_uuid": "644cb7b606640c402897d0b8645847a2047d8d85"
   },
   "source": [
    "These are the most inversely correlated: "
   ]
  },
  {
   "cell_type": "code",
   "execution_count": 93,
   "metadata": {
    "_cell_guid": "32100d24-7dd4-4bb5-93b0-5cc531e23a59",
    "_uuid": "52f675da79730b8799098609e02d0909cd20ba2e"
   },
   "outputs": [
    {
     "name": "stdout",
     "output_type": "stream",
     "text": [
      "discovery\n",
      "biomechanics\n",
      "farming\n",
      "identity\n",
      "driverless cars\n",
      "india\n",
      "mindfulness\n",
      "neuroscience\n"
     ]
    }
   ],
   "source": [
    "worst_tags = tag_df.sort_values('features',ascending=True).head(10).index.tolist()\n",
    "for tag in worst_tags:\n",
    "    print(inverted_tags[tag]) if tag in inverted_tags else \"\""
   ]
  },
  {
   "cell_type": "markdown",
   "metadata": {
    "_cell_guid": "62f38c87-4d6c-451b-8dd2-0989000edce7",
    "_uuid": "c4a2e240768fb3880a815c7dee469f85b4ebd3e8"
   },
   "source": [
    "It's quite possible this analysis suffers from small sample size. Some tags might have very few talks, skewing the ratings per view excessively. The following code is credited to Rounak Banik for finding the most popular tags:"
   ]
  },
  {
   "cell_type": "code",
   "execution_count": 94,
   "metadata": {
    "_cell_guid": "2680a9d7-0bf3-4790-801d-dcb5fc40f3cb",
    "_uuid": "c85125f532cded3c8c2a69358f075aec94538b07"
   },
   "outputs": [
    {
     "data": {
      "text/html": [
       "<div>\n",
       "<style>\n",
       "    .dataframe thead tr:only-child th {\n",
       "        text-align: right;\n",
       "    }\n",
       "\n",
       "    .dataframe thead th {\n",
       "        text-align: left;\n",
       "    }\n",
       "\n",
       "    .dataframe tbody tr th {\n",
       "        vertical-align: top;\n",
       "    }\n",
       "</style>\n",
       "<table border=\"1\" class=\"dataframe\">\n",
       "  <thead>\n",
       "    <tr style=\"text-align: right;\">\n",
       "      <th></th>\n",
       "      <th>theme</th>\n",
       "      <th>talks</th>\n",
       "    </tr>\n",
       "  </thead>\n",
       "  <tbody>\n",
       "    <tr>\n",
       "      <th>0</th>\n",
       "      <td>technology</td>\n",
       "      <td>727</td>\n",
       "    </tr>\n",
       "    <tr>\n",
       "      <th>1</th>\n",
       "      <td>science</td>\n",
       "      <td>567</td>\n",
       "    </tr>\n",
       "    <tr>\n",
       "      <th>2</th>\n",
       "      <td>global issues</td>\n",
       "      <td>501</td>\n",
       "    </tr>\n",
       "    <tr>\n",
       "      <th>3</th>\n",
       "      <td>culture</td>\n",
       "      <td>486</td>\n",
       "    </tr>\n",
       "    <tr>\n",
       "      <th>4</th>\n",
       "      <td>TEDx</td>\n",
       "      <td>450</td>\n",
       "    </tr>\n",
       "    <tr>\n",
       "      <th>5</th>\n",
       "      <td>design</td>\n",
       "      <td>418</td>\n",
       "    </tr>\n",
       "    <tr>\n",
       "      <th>6</th>\n",
       "      <td>business</td>\n",
       "      <td>348</td>\n",
       "    </tr>\n",
       "    <tr>\n",
       "      <th>7</th>\n",
       "      <td>entertainment</td>\n",
       "      <td>299</td>\n",
       "    </tr>\n",
       "    <tr>\n",
       "      <th>8</th>\n",
       "      <td>health</td>\n",
       "      <td>236</td>\n",
       "    </tr>\n",
       "    <tr>\n",
       "      <th>9</th>\n",
       "      <td>innovation</td>\n",
       "      <td>229</td>\n",
       "    </tr>\n",
       "    <tr>\n",
       "      <th>10</th>\n",
       "      <td>society</td>\n",
       "      <td>224</td>\n",
       "    </tr>\n",
       "    <tr>\n",
       "      <th>11</th>\n",
       "      <td>art</td>\n",
       "      <td>221</td>\n",
       "    </tr>\n",
       "    <tr>\n",
       "      <th>12</th>\n",
       "      <td>social change</td>\n",
       "      <td>218</td>\n",
       "    </tr>\n",
       "    <tr>\n",
       "      <th>13</th>\n",
       "      <td>future</td>\n",
       "      <td>195</td>\n",
       "    </tr>\n",
       "    <tr>\n",
       "      <th>14</th>\n",
       "      <td>communication</td>\n",
       "      <td>191</td>\n",
       "    </tr>\n",
       "    <tr>\n",
       "      <th>15</th>\n",
       "      <td>creativity</td>\n",
       "      <td>189</td>\n",
       "    </tr>\n",
       "    <tr>\n",
       "      <th>16</th>\n",
       "      <td>biology</td>\n",
       "      <td>189</td>\n",
       "    </tr>\n",
       "    <tr>\n",
       "      <th>17</th>\n",
       "      <td>humanity</td>\n",
       "      <td>182</td>\n",
       "    </tr>\n",
       "    <tr>\n",
       "      <th>18</th>\n",
       "      <td>collaboration</td>\n",
       "      <td>174</td>\n",
       "    </tr>\n",
       "    <tr>\n",
       "      <th>19</th>\n",
       "      <td>environment</td>\n",
       "      <td>165</td>\n",
       "    </tr>\n",
       "  </tbody>\n",
       "</table>\n",
       "</div>"
      ],
      "text/plain": [
       "            theme  talks\n",
       "0      technology    727\n",
       "1         science    567\n",
       "2   global issues    501\n",
       "3         culture    486\n",
       "4            TEDx    450\n",
       "5          design    418\n",
       "6        business    348\n",
       "7   entertainment    299\n",
       "8          health    236\n",
       "9      innovation    229\n",
       "10        society    224\n",
       "11            art    221\n",
       "12  social change    218\n",
       "13         future    195\n",
       "14  communication    191\n",
       "15     creativity    189\n",
       "16        biology    189\n",
       "17       humanity    182\n",
       "18  collaboration    174\n",
       "19    environment    165"
      ]
     },
     "execution_count": 94,
     "metadata": {},
     "output_type": "execute_result"
    }
   ],
   "source": [
    "s = df.apply(lambda x: pd.Series(x['tags']),axis=1).stack().reset_index(level=1, drop=True)\n",
    "s.name = 'theme'\n",
    "theme_df = df.drop('tags', axis=1).join(s)\n",
    "theme_df.head()\n",
    "pop_themes = pd.DataFrame(theme_df['theme'].value_counts()).reset_index()\n",
    "pop_themes.columns = ['theme', 'talks']\n",
    "top_themes = pop_themes.head(20)\n",
    "top_themes"
   ]
  },
  {
   "cell_type": "markdown",
   "metadata": {
    "_cell_guid": "ff372249-d023-441c-afde-275e5aee161a",
    "_uuid": "37d0c546ea7183488a5f1f7b027b89476e73dc5d"
   },
   "source": [
    "The most popular themes for talks, sorted by rating per view coefficient:"
   ]
  },
  {
   "cell_type": "code",
   "execution_count": 97,
   "metadata": {
    "_cell_guid": "8099bdfb-d0b2-4def-8a17-b324968a2ae5",
    "_uuid": "e1734a5bdf0bb970fba0ddb787537fa5d69b68e4",
    "collapsed": true
   },
   "outputs": [],
   "source": [
    "top_theme_list = []\n",
    "for theme in top_themes['theme'].tolist():\n",
    "    top_theme_list.append((theme,tag_df['features'].tolist()[all_tags[theme]]))\n",
    "sorted_list = sorted(top_theme_list,key=lambda x: -x[1])\n",
    "theme_list = []\n",
    "weight_list = []\n",
    "for pair in sorted_list:\n",
    "    theme_list.append(pair[0])\n",
    "    weight_list.append(pair[1])"
   ]
  },
  {
   "cell_type": "code",
   "execution_count": 98,
   "metadata": {
    "_cell_guid": "1cac4320-2f2a-4229-8853-745e3a66b6d0",
    "_uuid": "364528b06f79c04726101614fb19b871d4a864d3"
   },
   "outputs": [
    {
     "data": {
      "image/png": "[encoded data removed]",
      "text/plain": [
       "<matplotlib.figure.Figure at 0x7ff3b1f87f60>"
      ]
     },
     "metadata": {},
     "output_type": "display_data"
    }
   ],
   "source": [
    "fig,ax = plot.subplots()\n",
    "index = np.arange(0,20)\n",
    "ax.bar(index,weight_list)\n",
    "ax.set_xticklabels(theme_list)\n",
    "plot.xticks(index)\n",
    "for tick in ax.get_xticklabels():\n",
    "    tick.set_rotation(90)\n",
    "plot.show()"
   ]
  },
  {
   "cell_type": "markdown",
   "metadata": {
    "_cell_guid": "537ae938-0dac-47d3-bb39-7b0f6028a03e",
    "_uuid": "13f5f504034924ae7401e04e23dde712d9d400f5"
   },
   "source": [
    "We see that future, TEDx, collaboration, and society tend to generate the highest ratings per view, while categories such as environment, technology, art, and innovation have negative coefficients.\n",
    "\n",
    "## Summary ##\n",
    "\n",
    "In this analysis a unified, quantitative measure of rating (aggregate rating per view) was extracted from the data set. Two neural networks were trained on various features, including talk sentiment and themes, to predict this measure, achieving good accuracy. The relationship between ratings and these features was determined through examining the weights of the single-layer neural network."
   ]
  }
 ],
 "metadata": {
  "kernelspec": {
   "display_name": "Python 3",
   "language": "python",
   "name": "python3"
  },
  "language_info": {
   "codemirror_mode": {
    "name": "ipython",
    "version": 3
   },
   "file_extension": ".py",
   "mimetype": "text/x-python",
   "name": "python",
   "nbconvert_exporter": "python",
   "pygments_lexer": "ipython3",
   "version": "3.6.2"
  }
 },
 "nbformat": 4,
 "nbformat_minor": 1
}
